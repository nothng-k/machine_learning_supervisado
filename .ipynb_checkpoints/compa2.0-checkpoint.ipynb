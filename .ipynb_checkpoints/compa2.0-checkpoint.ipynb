{
 "cells": [
  {
   "cell_type": "code",
   "execution_count": 1,
   "id": "400a17a8",
   "metadata": {},
   "outputs": [],
   "source": [
    "#Algoritmos\n",
    "import pandas as pd\n",
    "import numpy as np\n",
    "import seaborn as sns\n",
    "from matplotlib import pyplot as plt\n",
    "import plotly.express as px\n",
    "\n",
    "from sklearn.impute import KNNImputer #Para imputar por regresión lineal\n",
    "from sklearn.linear_model import LogisticRegression\n",
    "from sklearn.linear_model import LinearRegression \n",
    "\n",
    "from sklearn.preprocessing import StandardScaler\n",
    "from sklearn.model_selection import GridSearchCV\n",
    " \n",
    "\n",
    "from sklearn.model_selection import train_test_split #Para separar los datos\n",
    "from sklearn.feature_selection import f_regression, mutual_info_regression\n",
    "\n",
    "\n",
    "import funciones_auxiliares #Para poder llamar a una serie de funciones ya escritas en un archivo py\n"
   ]
  },
  {
   "cell_type": "code",
   "execution_count": 2,
   "id": "f41a3b42",
   "metadata": {},
   "outputs": [
    {
     "name": "stderr",
     "output_type": "stream",
     "text": [
      "C:\\Users\\Luis\\anaconda3\\lib\\site-packages\\IPython\\core\\interactiveshell.py:3444: DtypeWarning: Columns (0) have mixed types.Specify dtype option on import or set low_memory=False.\n",
      "  exec(code_obj, self.user_global_ns, self.user_ns)\n",
      "C:\\Users\\Luis\\AppData\\Local\\Temp/ipykernel_19256/4053991510.py:3: FutureWarning: In a future version of pandas all arguments of DataFrame.drop except for the argument 'labels' will be keyword-only\n",
      "  pd_l.head().drop(['id','url'],1)\n"
     ]
    },
    {
     "data": {
      "text/html": [
       "<div>\n",
       "<style scoped>\n",
       "    .dataframe tbody tr th:only-of-type {\n",
       "        vertical-align: middle;\n",
       "    }\n",
       "\n",
       "    .dataframe tbody tr th {\n",
       "        vertical-align: top;\n",
       "    }\n",
       "\n",
       "    .dataframe thead th {\n",
       "        text-align: right;\n",
       "    }\n",
       "</style>\n",
       "<table border=\"1\" class=\"dataframe\">\n",
       "  <thead>\n",
       "    <tr style=\"text-align: right;\">\n",
       "      <th></th>\n",
       "      <th>zip_code</th>\n",
       "      <th>mths_since_last_record</th>\n",
       "      <th>il_util</th>\n",
       "      <th>mths_since_recent_bc_dlq</th>\n",
       "      <th>mths_since_rcnt_il</th>\n",
       "      <th>all_util</th>\n",
       "      <th>inq_fi</th>\n",
       "      <th>max_bal_bc</th>\n",
       "      <th>total_cu_tl</th>\n",
       "      <th>open_acc_6m</th>\n",
       "      <th>...</th>\n",
       "      <th>initial_list_status</th>\n",
       "      <th>application_type</th>\n",
       "      <th>pub_rec</th>\n",
       "      <th>pub_rec_bankruptcies</th>\n",
       "      <th>loan_amnt</th>\n",
       "      <th>mort_acc</th>\n",
       "      <th>mo_sin_old_rev_tl_op</th>\n",
       "      <th>open_acc</th>\n",
       "      <th>earliest_cr_line_month</th>\n",
       "      <th>earliest_cr_line_year</th>\n",
       "    </tr>\n",
       "  </thead>\n",
       "  <tbody>\n",
       "    <tr>\n",
       "      <th>0</th>\n",
       "      <td>148xx</td>\n",
       "      <td>NaN</td>\n",
       "      <td>NaN</td>\n",
       "      <td>NaN</td>\n",
       "      <td>NaN</td>\n",
       "      <td>55.0</td>\n",
       "      <td>1.0</td>\n",
       "      <td>2315.0</td>\n",
       "      <td>0.0</td>\n",
       "      <td>0.0</td>\n",
       "      <td>...</td>\n",
       "      <td>w</td>\n",
       "      <td>Individual</td>\n",
       "      <td>0.0</td>\n",
       "      <td>0.0</td>\n",
       "      <td>2300.0</td>\n",
       "      <td>0.0</td>\n",
       "      <td>381.0</td>\n",
       "      <td>4.0</td>\n",
       "      <td>9.0</td>\n",
       "      <td>1985.0</td>\n",
       "    </tr>\n",
       "    <tr>\n",
       "      <th>1</th>\n",
       "      <td>021xx</td>\n",
       "      <td>NaN</td>\n",
       "      <td>69.0</td>\n",
       "      <td>NaN</td>\n",
       "      <td>26.0</td>\n",
       "      <td>94.0</td>\n",
       "      <td>0.0</td>\n",
       "      <td>1962.0</td>\n",
       "      <td>6.0</td>\n",
       "      <td>2.0</td>\n",
       "      <td>...</td>\n",
       "      <td>w</td>\n",
       "      <td>Individual</td>\n",
       "      <td>0.0</td>\n",
       "      <td>0.0</td>\n",
       "      <td>16000.0</td>\n",
       "      <td>7.0</td>\n",
       "      <td>300.0</td>\n",
       "      <td>9.0</td>\n",
       "      <td>6.0</td>\n",
       "      <td>1992.0</td>\n",
       "    </tr>\n",
       "    <tr>\n",
       "      <th>2</th>\n",
       "      <td>018xx</td>\n",
       "      <td>NaN</td>\n",
       "      <td>NaN</td>\n",
       "      <td>NaN</td>\n",
       "      <td>10.0</td>\n",
       "      <td>45.0</td>\n",
       "      <td>1.0</td>\n",
       "      <td>1950.0</td>\n",
       "      <td>5.0</td>\n",
       "      <td>1.0</td>\n",
       "      <td>...</td>\n",
       "      <td>w</td>\n",
       "      <td>Individual</td>\n",
       "      <td>0.0</td>\n",
       "      <td>0.0</td>\n",
       "      <td>6025.0</td>\n",
       "      <td>2.0</td>\n",
       "      <td>180.0</td>\n",
       "      <td>11.0</td>\n",
       "      <td>6.0</td>\n",
       "      <td>2002.0</td>\n",
       "    </tr>\n",
       "    <tr>\n",
       "      <th>3</th>\n",
       "      <td>913xx</td>\n",
       "      <td>NaN</td>\n",
       "      <td>95.0</td>\n",
       "      <td>NaN</td>\n",
       "      <td>6.0</td>\n",
       "      <td>60.0</td>\n",
       "      <td>1.0</td>\n",
       "      <td>4240.0</td>\n",
       "      <td>1.0</td>\n",
       "      <td>1.0</td>\n",
       "      <td>...</td>\n",
       "      <td>w</td>\n",
       "      <td>Individual</td>\n",
       "      <td>0.0</td>\n",
       "      <td>0.0</td>\n",
       "      <td>20400.0</td>\n",
       "      <td>0.0</td>\n",
       "      <td>125.0</td>\n",
       "      <td>15.0</td>\n",
       "      <td>1.0</td>\n",
       "      <td>2007.0</td>\n",
       "    </tr>\n",
       "    <tr>\n",
       "      <th>4</th>\n",
       "      <td>560xx</td>\n",
       "      <td>NaN</td>\n",
       "      <td>72.0</td>\n",
       "      <td>26.0</td>\n",
       "      <td>127.0</td>\n",
       "      <td>78.0</td>\n",
       "      <td>0.0</td>\n",
       "      <td>2996.0</td>\n",
       "      <td>0.0</td>\n",
       "      <td>0.0</td>\n",
       "      <td>...</td>\n",
       "      <td>w</td>\n",
       "      <td>Individual</td>\n",
       "      <td>0.0</td>\n",
       "      <td>0.0</td>\n",
       "      <td>13000.0</td>\n",
       "      <td>1.0</td>\n",
       "      <td>184.0</td>\n",
       "      <td>5.0</td>\n",
       "      <td>2.0</td>\n",
       "      <td>2002.0</td>\n",
       "    </tr>\n",
       "  </tbody>\n",
       "</table>\n",
       "<p>5 rows × 49 columns</p>\n",
       "</div>"
      ],
      "text/plain": [
       "  zip_code  mths_since_last_record  il_util  mths_since_recent_bc_dlq  \\\n",
       "0    148xx                     NaN      NaN                       NaN   \n",
       "1    021xx                     NaN     69.0                       NaN   \n",
       "2    018xx                     NaN      NaN                       NaN   \n",
       "3    913xx                     NaN     95.0                       NaN   \n",
       "4    560xx                     NaN     72.0                      26.0   \n",
       "\n",
       "   mths_since_rcnt_il  all_util  inq_fi  max_bal_bc  total_cu_tl  open_acc_6m  \\\n",
       "0                 NaN      55.0     1.0      2315.0          0.0          0.0   \n",
       "1                26.0      94.0     0.0      1962.0          6.0          2.0   \n",
       "2                10.0      45.0     1.0      1950.0          5.0          1.0   \n",
       "3                 6.0      60.0     1.0      4240.0          1.0          1.0   \n",
       "4               127.0      78.0     0.0      2996.0          0.0          0.0   \n",
       "\n",
       "   ...  initial_list_status  application_type  pub_rec  pub_rec_bankruptcies  \\\n",
       "0  ...                    w        Individual      0.0                   0.0   \n",
       "1  ...                    w        Individual      0.0                   0.0   \n",
       "2  ...                    w        Individual      0.0                   0.0   \n",
       "3  ...                    w        Individual      0.0                   0.0   \n",
       "4  ...                    w        Individual      0.0                   0.0   \n",
       "\n",
       "   loan_amnt  mort_acc  mo_sin_old_rev_tl_op  open_acc  \\\n",
       "0     2300.0       0.0                 381.0       4.0   \n",
       "1    16000.0       7.0                 300.0       9.0   \n",
       "2     6025.0       2.0                 180.0      11.0   \n",
       "3    20400.0       0.0                 125.0      15.0   \n",
       "4    13000.0       1.0                 184.0       5.0   \n",
       "\n",
       "   earliest_cr_line_month  earliest_cr_line_year  \n",
       "0                     9.0                 1985.0  \n",
       "1                     6.0                 1992.0  \n",
       "2                     6.0                 2002.0  \n",
       "3                     1.0                 2007.0  \n",
       "4                     2.0                 2002.0  \n",
       "\n",
       "[5 rows x 49 columns]"
      ]
     },
     "execution_count": 2,
     "metadata": {},
     "output_type": "execute_result"
    }
   ],
   "source": [
    "path_folder=\"C:/Users/Luis/Desktop/Apuntes/4º Cuarto/Machine Learning/aprendizaje_supervisado_practica_1/pd_data_initial_preprocessing.csv\"\n",
    "pd_l=pd.read_csv(path_folder)\n",
    "pd_l.head().drop(['id','url'],1)"
   ]
  },
  {
   "cell_type": "code",
   "execution_count": 3,
   "id": "da3d16fa",
   "metadata": {},
   "outputs": [
    {
     "name": "stderr",
     "output_type": "stream",
     "text": [
      "C:\\Users\\Luis\\AppData\\Local\\Temp/ipykernel_19256/523528058.py:1: FutureWarning: In a future version of pandas all arguments of DataFrame.drop except for the argument 'labels' will be keyword-only\n",
      "  pd_loan = pd_l.drop(['id','url','zip_code','mo_sin_old_rev_tl_op','fico_range_low','open_rv_12m','open_il_12m','earliest_cr_line_year'],1)\n"
     ]
    }
   ],
   "source": [
    "pd_loan = pd_l.drop(['id','url','zip_code','mo_sin_old_rev_tl_op','fico_range_low','open_rv_12m','open_il_12m','earliest_cr_line_year'],1)"
   ]
  },
  {
   "cell_type": "code",
   "execution_count": 4,
   "id": "87f9553f",
   "metadata": {},
   "outputs": [],
   "source": [
    "list_var_continuous = list(pd_loan.select_dtypes('float').columns)\n",
    "for i in list_var_continuous:\n",
    "    mean=pd_loan[i].mean()\n",
    "    pd_loan[i] = pd_loan[i].fillna(mean)\n",
    "list_var_moda = [\n",
    " 'emp_title',\n",
    " 'home_ownership',\n",
    " 'loan_status',\n",
    " 'purpose',\n",
    " 'application_type']\n",
    "for i in list_var_moda:\n",
    "    moda = pd.Series(pd_loan[i].values.flatten()).mode()[0]\n",
    "    pd_loan[i] = pd_loan[i].fillna(moda)\n",
    "    \n",
    "#Vamos con las otras variables categóricas que no hemos imputado por la moda\n",
    "list_rest=['verification_status','grade','addr_state','initial_list_status']\n",
    "for i in list_rest:\n",
    "    pd_loan[list_rest] = pd_loan[list_rest].astype(\"object\").fillna(\"SIN VALOR\").astype(\"category\")"
   ]
  },
  {
   "cell_type": "markdown",
   "id": "bdbfbb02",
   "metadata": {},
   "source": [
    "REGRESIÓN LOGÍSTICA\n",
    "(La visualización ya está vista en el notebook Practia1)"
   ]
  },
  {
   "cell_type": "code",
   "execution_count": 5,
   "id": "af0fe8af",
   "metadata": {},
   "outputs": [
    {
     "name": "stderr",
     "output_type": "stream",
     "text": [
      "C:\\Users\\Luis\\AppData\\Local\\Temp/ipykernel_19256/3366823999.py:3: SettingWithCopyWarning: \n",
      "A value is trying to be set on a copy of a slice from a DataFrame.\n",
      "Try using .loc[row_indexer,col_indexer] = value instead\n",
      "\n",
      "See the caveats in the documentation: https://pandas.pydata.org/pandas-docs/stable/user_guide/indexing.html#returning-a-view-versus-a-copy\n",
      "  pd_loan_def['loan_status'] = pd_loan_def['loan_status']\\\n"
     ]
    },
    {
     "data": {
      "text/plain": [
       "0    345520\n",
       "1     97047\n",
       "Name: loan_status, dtype: int64"
      ]
     },
     "execution_count": 5,
     "metadata": {},
     "output_type": "execute_result"
    }
   ],
   "source": [
    "pd_loan_def = pd_loan[(pd_loan['loan_status']=='Fully Paid') | \n",
    "                  (pd_loan['loan_status']=='Charged Off')]\n",
    "pd_loan_def['loan_status'] = pd_loan_def['loan_status']\\\n",
    "                                .map({'Fully Paid': 0, 'Charged Off': 1}).astype(int)\n",
    "pd_loan_def['loan_status'].value_counts()"
   ]
  },
  {
   "cell_type": "code",
   "execution_count": 6,
   "id": "91b07196",
   "metadata": {},
   "outputs": [
    {
     "data": {
      "text/plain": [
       "0    268151\n",
       "1     99463\n",
       "Name: purpose, dtype: int64"
      ]
     },
     "execution_count": 6,
     "metadata": {},
     "output_type": "execute_result"
    }
   ],
   "source": [
    "pd_loan_def = pd_loan_def[(pd_loan_def['purpose']=='credit_card') |\n",
    "                  (pd_loan_def['purpose']=='debt_consolidation')]\n",
    "pd_loan_def['purpose'] = pd_loan_def['purpose']\\\n",
    "                            .map({'credit_card':1, 'debt_consolidation':0}).astype(int)\n",
    "pd_loan_def['purpose'].value_counts()"
   ]
  },
  {
   "cell_type": "code",
   "execution_count": 7,
   "id": "557b9994",
   "metadata": {},
   "outputs": [
    {
     "data": {
      "text/plain": [
       "1    259902\n",
       "0    107712\n",
       "Name: verification_status, dtype: int64"
      ]
     },
     "execution_count": 7,
     "metadata": {},
     "output_type": "execute_result"
    }
   ],
   "source": [
    "pd_loan_def = pd_loan_def[(pd_loan_def['verification_status'] == 'Not Verified')  |\n",
    "                          (pd_loan_def['verification_status'] == 'SIN VALOR')  |\n",
    "                          (pd_loan_def['verification_status'] == 'Source Verified')  |\n",
    "                          (pd_loan_def['verification_status'] == 'Verified')]\n",
    "pd_loan_def['verification_status'] = pd_loan_def['verification_status']\\\n",
    "                                .map({'Not Verified': 0, 'SIN VALOR':0, 'Verified':1, 'Source Verified':1}).astype(int)\n",
    "pd_loan_def['verification_status'].value_counts()"
   ]
  },
  {
   "cell_type": "code",
   "execution_count": 8,
   "id": "f722e273",
   "metadata": {},
   "outputs": [
    {
     "name": "stderr",
     "output_type": "stream",
     "text": [
      "C:\\Users\\Luis\\AppData\\Local\\Temp/ipykernel_19256/2885339680.py:2: FutureWarning: In a future version of pandas all arguments of DataFrame.drop except for the argument 'labels' will be keyword-only\n",
      "  pd_loan_reg = pd_loan_def.drop(list_reg,1)\n"
     ]
    }
   ],
   "source": [
    "list_reg = list(['emp_title','home_ownership','application_type','addr_state','grade','initial_list_status'])\n",
    "pd_loan_reg = pd_loan_def.drop(list_reg,1)"
   ]
  },
  {
   "cell_type": "markdown",
   "id": "31c20d5f",
   "metadata": {},
   "source": [
    "Dividimos la muestra en train y test"
   ]
  },
  {
   "cell_type": "code",
   "execution_count": 9,
   "id": "6ecb2c07",
   "metadata": {},
   "outputs": [
    {
     "name": "stderr",
     "output_type": "stream",
     "text": [
      "C:\\Users\\Luis\\AppData\\Local\\Temp/ipykernel_19256/1248798563.py:1: FutureWarning: In a future version of pandas all arguments of DataFrame.drop except for the argument 'labels' will be keyword-only\n",
      "  X=pd_loan_reg.drop('loan_status',1)\n"
     ]
    },
    {
     "name": "stdout",
     "output_type": "stream",
     "text": [
      "Datos train:  (294091, 36)\n",
      "Datos test:   (73523, 36)\n",
      "Proporcion train:0.219\n",
      "Proporcion test: 0.219\n"
     ]
    }
   ],
   "source": [
    "X=pd_loan_reg.drop('loan_status',1)\n",
    "Y=pd_loan_reg['loan_status']\n",
    "X_train, X_test, y_train, y_test = train_test_split(X, Y, stratify=Y, test_size=0.2, random_state=0)\n",
    "\n",
    "scaler = StandardScaler().fit(X_train)\n",
    "Xs_train = scaler.transform(X_train)\n",
    "Xs_test  = scaler.transform(X_test)\n",
    "\n",
    "print('Datos train: ', Xs_train.shape)\n",
    "print('Datos test:  ', Xs_test.shape)\n",
    "\n",
    "print('Proporcion train:%0.3f'%np.mean(y_train))\n",
    "print('Proporcion test: %0.3f'%np.mean(y_test))\n"
   ]
  },
  {
   "cell_type": "markdown",
   "id": "66042c25",
   "metadata": {},
   "source": [
    "# Regresión Logística"
   ]
  },
  {
   "cell_type": "code",
   "execution_count": 10,
   "id": "fca8c7dc",
   "metadata": {},
   "outputs": [],
   "source": [
    "clf = LogisticRegression(random_state=0, C = 1)\n",
    "model_glm = clf.fit(Xs_train, y_train)\n",
    "y_pred_reg = model_glm.predict_proba(Xs_train)"
   ]
  },
  {
   "cell_type": "markdown",
   "id": "8685ca9b",
   "metadata": {},
   "source": [
    "## Normas para la regresión logística"
   ]
  },
  {
   "cell_type": "code",
   "execution_count": 11,
   "id": "b45407ac",
   "metadata": {},
   "outputs": [],
   "source": [
    "##Métricas\n",
    "from sklearn import metrics\n",
    "from sklearn.metrics import roc_curve, auc\n",
    "from sklearn.metrics import confusion_matrix\n",
    "\n",
    "def calcula_metricas(confmat):\n",
    "    \n",
    "    tn, fp, fn, tp = confmat.ravel()\n",
    "\n",
    "    acc = (tp+tn)/(tn + fp + fn + tp)\n",
    "    sen = tp/(tp+fn)\n",
    "    esp = tn/(tn+fp)\n",
    "    ppv = tp/(tp+fp)\n",
    "    fsc = 2*(sen*ppv/(sen+ppv))\n",
    "\n",
    "    print('ACC: ', acc)\n",
    "    print('SEN: ', sen)\n",
    "    print('PPV: ', ppv)\n",
    "    print('FSC: ', fsc)\n",
    "    \n",
    "    plt.bar(range(4),[acc,sen,ppv,fsc])\n",
    "    plt.xticks(range(4),['ACC','SEN','PPV','FSC'])\n",
    "    plt.plot([-1, 6], [1, 1], color=(0.6, 0.6, 0.6), linestyle='--')\n",
    "    plt.xlim((-0.5,4.5))\n",
    "    plt.ylim((0,1.1))\n",
    "    plt.title('Metricas')\n",
    "    plt.show()"
   ]
  },
  {
   "cell_type": "code",
   "execution_count": 12,
   "id": "48569ffa",
   "metadata": {},
   "outputs": [
    {
     "data": {
      "image/png": "[encoded data removed]",
      "text/plain": [
       "<Figure size 432x288 with 1 Axes>"
      ]
     },
     "metadata": {
      "needs_background": "light"
     },
     "output_type": "display_data"
    }
   ],
   "source": [
    "metrics.plot_roc_curve(clf, Xs_test, y_test) \n",
    "plt.show()"
   ]
  },
  {
   "cell_type": "code",
   "execution_count": 13,
   "id": "533970e3",
   "metadata": {},
   "outputs": [],
   "source": [
    "y_pred_def=[]\n",
    "for i in y_pred_reg:\n",
    "    if i[0]<0.5:\n",
    "        y_pred_def.append(1)\n",
    "    else:\n",
    "        y_pred_def.append(0)\n",
    "y_pred_reg=y_pred_def"
   ]
  },
  {
   "cell_type": "code",
   "execution_count": 14,
   "id": "eeca6c85",
   "metadata": {},
   "outputs": [
    {
     "data": {
      "image/png": "[encoded data removed]",
      "text/plain": [
       "<Figure size 216x216 with 1 Axes>"
      ]
     },
     "metadata": {
      "needs_background": "light"
     },
     "output_type": "display_data"
    }
   ],
   "source": [
    "confmat = confusion_matrix(y_train,y_pred_reg)\n",
    "funciones_auxiliares.plot_confusion_matrix(confmat)"
   ]
  },
  {
   "cell_type": "code",
   "execution_count": 15,
   "id": "2b30d848",
   "metadata": {},
   "outputs": [
    {
     "name": "stdout",
     "output_type": "stream",
     "text": [
      "ACC:  0.7843728641814949\n",
      "SEN:  0.11296319246498947\n",
      "PPV:  0.5423174178194259\n",
      "FSC:  0.18697915331162338\n"
     ]
    },
    {
     "data": {
      "image/png": "[encoded data removed]",
      "text/plain": [
       "<Figure size 432x288 with 1 Axes>"
      ]
     },
     "metadata": {
      "needs_background": "light"
     },
     "output_type": "display_data"
    }
   ],
   "source": [
    "calcula_metricas(confmat)"
   ]
  },
  {
   "cell_type": "markdown",
   "id": "16b421ab",
   "metadata": {},
   "source": [
    "# KNN"
   ]
  },
  {
   "cell_type": "markdown",
   "id": "9e9e1367",
   "metadata": {},
   "source": [
    "### Realizamos otra nueva división entre train y test con un menor porcentaje de test para poder cargar el algoritmo"
   ]
  },
  {
   "cell_type": "code",
   "execution_count": 18,
   "id": "debdf6b1",
   "metadata": {},
   "outputs": [
    {
     "name": "stderr",
     "output_type": "stream",
     "text": [
      "C:\\Users\\Luis\\AppData\\Local\\Temp/ipykernel_9448/1872633573.py:3: FutureWarning: In a future version of pandas all arguments of DataFrame.drop except for the argument 'labels' will be keyword-only\n",
      "  pd_loan_KNN = pd_loan_def.drop(list_rest,1)\n",
      "C:\\Users\\Luis\\AppData\\Local\\Temp/ipykernel_9448/1872633573.py:4: FutureWarning: In a future version of pandas all arguments of DataFrame.drop except for the argument 'labels' will be keyword-only\n",
      "  pd_loan_KNN = pd_loan_KNN.drop(list_O,1)\n"
     ]
    }
   ],
   "source": [
    "#Elimino las variables categóricas\n",
    "list_O = list(pd_loan_def.select_dtypes('O').columns)\n",
    "pd_loan_KNN = pd_loan_def.drop(list_rest,1)\n",
    "pd_loan_KNN = pd_loan_KNN.drop(list_O,1)"
   ]
  },
  {
   "cell_type": "code",
   "execution_count": 19,
   "id": "cc233e02",
   "metadata": {},
   "outputs": [
    {
     "name": "stderr",
     "output_type": "stream",
     "text": [
      "C:\\Users\\Luis\\AppData\\Local\\Temp/ipykernel_9448/2945404178.py:1: FutureWarning: In a future version of pandas all arguments of DataFrame.drop except for the argument 'labels' will be keyword-only\n",
      "  X=pd_loan_KNN.drop('loan_status',1)\n"
     ]
    },
    {
     "name": "stdout",
     "output_type": "stream",
     "text": [
      "Datos train:  (349233, 35)\n",
      "Datos test:   (18381, 35)\n",
      "Proporcion train:0.219\n",
      "Proporcion test: 0.220\n"
     ]
    }
   ],
   "source": [
    "X=pd_loan_KNN.drop('loan_status',1)\n",
    "Y=pd_loan_KNN['loan_status']\n",
    "X_train, X_test, y_train, y_test = train_test_split(X, Y, stratify=Y, test_size=0.05, random_state=0)\n",
    "\n",
    "scaler = StandardScaler().fit(X_train)\n",
    "Xs_train = scaler.transform(X_train)\n",
    "Xs_test  = scaler.transform(X_test)\n",
    "\n",
    "print('Datos train: ', Xs_train.shape)\n",
    "print('Datos test:  ', Xs_test.shape)\n",
    "\n",
    "print('Proporcion train:%0.3f'%np.mean(y_train))\n",
    "print('Proporcion test: %0.3f'%np.mean(y_test))\n"
   ]
  },
  {
   "cell_type": "code",
   "execution_count": 20,
   "id": "492edbab",
   "metadata": {},
   "outputs": [],
   "source": [
    "from sklearn.neighbors import KNeighborsClassifier\n",
    "\n",
    "knn = KNeighborsClassifier(n_neighbors=5, metric ='mahalanobis')"
   ]
  },
  {
   "cell_type": "code",
   "execution_count": null,
   "id": "1142c6a9",
   "metadata": {},
   "outputs": [
    {
     "name": "stderr",
     "output_type": "stream",
     "text": [
      "C:\\Users\\Luis\\anaconda3\\lib\\site-packages\\sklearn\\metrics\\pairwise.py:1462: FutureWarning: from version 1.0 (renaming of 0.25), pairwise_distances for metric='mahalanobis' will require VI to be specified if Y is passed.\n",
      "  warnings.warn(\n"
     ]
    }
   ],
   "source": [
    "knn.fit(Xs_train, y_train)\n",
    "y_pred_KNN = knn.predict(Xs_test)"
   ]
  },
  {
   "cell_type": "code",
   "execution_count": null,
   "id": "eea64b54",
   "metadata": {},
   "outputs": [],
   "source": [
    "confmat_KNN = confusion_matrix(y_test,y_pred_KNN)\n",
    "funciones_auxiliares.plot_confusion_matrix(confmat)"
   ]
  },
  {
   "cell_type": "code",
   "execution_count": null,
   "id": "c1b806de",
   "metadata": {},
   "outputs": [],
   "source": [
    "calcula_metricas(confmat_KNN)"
   ]
  },
  {
   "cell_type": "code",
   "execution_count": null,
   "id": "038a93a5",
   "metadata": {},
   "outputs": [],
   "source": [
    "metrics.plot_roc_curve(knn, Xs_test, y_test) \n",
    "plt.show()"
   ]
  },
  {
   "cell_type": "markdown",
   "id": "d5656bac",
   "metadata": {},
   "source": [
    "## Grid Search"
   ]
  },
  {
   "cell_type": "code",
   "execution_count": null,
   "id": "b08b3f2e",
   "metadata": {},
   "outputs": [],
   "source": [
    "vectorC = np.logspace(-3,3,21)\n",
    "param_grid = {'C': vectorC }\n",
    "\n",
    "grid = GridSearchCV(LogisticRegression(random_state=0, class_weight='balanced'),\n",
    "                    scoring='f1', \n",
    "                    param_grid=param_grid, \n",
    "                    cv = 5)\n",
    "\n",
    "grid.fit(Xs_train, y_train)\n",
    "\n",
    "print(\"best mean cross-validation score: {:.3f}\".format(grid.best_score_))\n",
    "print(\"best parameters: {}\".format(grid.best_params_))\n",
    "\n",
    "scores = grid.cv_results_['mean_test_score']\n",
    "std_scores = grid.cv_results_['std_test_score']\n",
    "plt.errorbar(np.log10(vectorC),scores,yerr=std_scores, fmt='o-',ecolor='g')\n",
    "plt.xlabel('log(C)',fontsize=16)\n",
    "plt.ylabel('10-Fold F-Score')\n",
    "plt.grid()\n",
    "plt.show()"
   ]
  },
  {
   "cell_type": "code",
   "execution_count": null,
   "id": "871dc23d",
   "metadata": {},
   "outputs": [],
   "source": [
    "# from sklearn.model_selection import GridSearchCV\n",
    "\n",
    "vectorC = np.logspace(-3,3,21)\n",
    "param_grid = {'C': vectorC }\n",
    "\n",
    "grid = GridSearchCV(LogisticRegression(random_state=0), #class weight='balanced'\n",
    "                    scoring='accuracy', \n",
    "                    param_grid=param_grid, \n",
    "                    cv = 5)\n",
    "\n",
    "grid.fit(Xs_train, y_train)\n",
    "\n",
    "print(\"best mean cross-validation score: {:.3f}\".format(grid.best_score_))\n",
    "print(\"best parameters: {}\".format(grid.best_params_))\n",
    "\n",
    "scores = grid.cv_results_['mean_test_score']\n",
    "std_scores = grid.cv_results_['std_test_score']\n",
    "plt.errorbar(np.log10(vectorC),scores,yerr=std_scores, fmt='o-',ecolor='g')\n",
    "plt.xlabel('log(C)',fontsize=16)\n",
    "plt.ylabel('10-Fold ACC')\n",
    "plt.grid()\n",
    "plt.show()"
   ]
  }
 ],
 "metadata": {
  "kernelspec": {
   "display_name": "Python 3 (ipykernel)",
   "language": "python",
   "name": "python3"
  },
  "language_info": {
   "codemirror_mode": {
    "name": "ipython",
    "version": 3
   },
   "file_extension": ".py",
   "mimetype": "text/x-python",
   "name": "python",
   "nbconvert_exporter": "python",
   "pygments_lexer": "ipython3",
   "version": "3.8.8"
  }
 },
 "nbformat": 4,
 "nbformat_minor": 5
}
