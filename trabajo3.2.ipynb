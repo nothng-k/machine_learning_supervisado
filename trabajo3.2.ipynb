{
 "cells": [
  {
   "cell_type": "markdown",
   "id": "3e73acf6",
   "metadata": {},
   "source": [
    "# Manuel Grau Roldán    \n",
    "# Luis Nates Arechavaleta    "
   ]
  },
  {
   "cell_type": "code",
   "execution_count": 63,
   "id": "1d964a01",
   "metadata": {},
   "outputs": [],
   "source": [
    "import pandas as pd\n",
    "import numpy as np\n",
    "import seaborn as sns\n",
    "from matplotlib import pyplot as plt\n",
    "import plotly.express as px\n",
    "\n",
    "import funciones_auxiliares #Para poder llamar a una serie de funciones ya escritas en un archivo py\n"
   ]
  },
  {
   "cell_type": "markdown",
   "id": "b58ae581",
   "metadata": {},
   "source": [
    "Primero cargamos los datos en un DataFrame"
   ]
  },
  {
   "cell_type": "code",
   "execution_count": 64,
   "id": "878b2d71",
   "metadata": {},
   "outputs": [
    {
     "name": "stderr",
     "output_type": "stream",
     "text": [
      "C:\\Users\\lolo\\AppData\\Local\\Temp/ipykernel_10780/2381297441.py:1: DtypeWarning:\n",
      "\n",
      "Columns (0) have mixed types. Specify dtype option on import or set low_memory=False.\n",
      "\n"
     ]
    },
    {
     "data": {
      "text/html": [
       "<div>\n",
       "<style scoped>\n",
       "    .dataframe tbody tr th:only-of-type {\n",
       "        vertical-align: middle;\n",
       "    }\n",
       "\n",
       "    .dataframe tbody tr th {\n",
       "        vertical-align: top;\n",
       "    }\n",
       "\n",
       "    .dataframe thead th {\n",
       "        text-align: right;\n",
       "    }\n",
       "</style>\n",
       "<table border=\"1\" class=\"dataframe\">\n",
       "  <thead>\n",
       "    <tr style=\"text-align: right;\">\n",
       "      <th></th>\n",
       "      <th>mths_since_last_record</th>\n",
       "      <th>il_util</th>\n",
       "      <th>mths_since_recent_bc_dlq</th>\n",
       "      <th>mths_since_rcnt_il</th>\n",
       "      <th>all_util</th>\n",
       "      <th>inq_fi</th>\n",
       "      <th>max_bal_bc</th>\n",
       "      <th>total_cu_tl</th>\n",
       "      <th>open_acc_6m</th>\n",
       "      <th>open_act_il</th>\n",
       "      <th>...</th>\n",
       "      <th>initial_list_status</th>\n",
       "      <th>application_type</th>\n",
       "      <th>pub_rec</th>\n",
       "      <th>pub_rec_bankruptcies</th>\n",
       "      <th>loan_amnt</th>\n",
       "      <th>mort_acc</th>\n",
       "      <th>mo_sin_old_rev_tl_op</th>\n",
       "      <th>open_acc</th>\n",
       "      <th>earliest_cr_line_month</th>\n",
       "      <th>earliest_cr_line_year</th>\n",
       "    </tr>\n",
       "  </thead>\n",
       "  <tbody>\n",
       "    <tr>\n",
       "      <th>0</th>\n",
       "      <td>NaN</td>\n",
       "      <td>NaN</td>\n",
       "      <td>NaN</td>\n",
       "      <td>NaN</td>\n",
       "      <td>55.0</td>\n",
       "      <td>1.0</td>\n",
       "      <td>2315.0</td>\n",
       "      <td>0.0</td>\n",
       "      <td>0.0</td>\n",
       "      <td>0.0</td>\n",
       "      <td>...</td>\n",
       "      <td>w</td>\n",
       "      <td>Individual</td>\n",
       "      <td>0.0</td>\n",
       "      <td>0.0</td>\n",
       "      <td>2300.0</td>\n",
       "      <td>0.0</td>\n",
       "      <td>381.0</td>\n",
       "      <td>4.0</td>\n",
       "      <td>9.0</td>\n",
       "      <td>1985.0</td>\n",
       "    </tr>\n",
       "    <tr>\n",
       "      <th>1</th>\n",
       "      <td>NaN</td>\n",
       "      <td>69.0</td>\n",
       "      <td>NaN</td>\n",
       "      <td>26.0</td>\n",
       "      <td>94.0</td>\n",
       "      <td>0.0</td>\n",
       "      <td>1962.0</td>\n",
       "      <td>6.0</td>\n",
       "      <td>2.0</td>\n",
       "      <td>1.0</td>\n",
       "      <td>...</td>\n",
       "      <td>w</td>\n",
       "      <td>Individual</td>\n",
       "      <td>0.0</td>\n",
       "      <td>0.0</td>\n",
       "      <td>16000.0</td>\n",
       "      <td>7.0</td>\n",
       "      <td>300.0</td>\n",
       "      <td>9.0</td>\n",
       "      <td>6.0</td>\n",
       "      <td>1992.0</td>\n",
       "    </tr>\n",
       "    <tr>\n",
       "      <th>2</th>\n",
       "      <td>NaN</td>\n",
       "      <td>NaN</td>\n",
       "      <td>NaN</td>\n",
       "      <td>10.0</td>\n",
       "      <td>45.0</td>\n",
       "      <td>1.0</td>\n",
       "      <td>1950.0</td>\n",
       "      <td>5.0</td>\n",
       "      <td>1.0</td>\n",
       "      <td>0.0</td>\n",
       "      <td>...</td>\n",
       "      <td>w</td>\n",
       "      <td>Individual</td>\n",
       "      <td>0.0</td>\n",
       "      <td>0.0</td>\n",
       "      <td>6025.0</td>\n",
       "      <td>2.0</td>\n",
       "      <td>180.0</td>\n",
       "      <td>11.0</td>\n",
       "      <td>6.0</td>\n",
       "      <td>2002.0</td>\n",
       "    </tr>\n",
       "    <tr>\n",
       "      <th>3</th>\n",
       "      <td>NaN</td>\n",
       "      <td>95.0</td>\n",
       "      <td>NaN</td>\n",
       "      <td>6.0</td>\n",
       "      <td>60.0</td>\n",
       "      <td>1.0</td>\n",
       "      <td>4240.0</td>\n",
       "      <td>1.0</td>\n",
       "      <td>1.0</td>\n",
       "      <td>10.0</td>\n",
       "      <td>...</td>\n",
       "      <td>w</td>\n",
       "      <td>Individual</td>\n",
       "      <td>0.0</td>\n",
       "      <td>0.0</td>\n",
       "      <td>20400.0</td>\n",
       "      <td>0.0</td>\n",
       "      <td>125.0</td>\n",
       "      <td>15.0</td>\n",
       "      <td>1.0</td>\n",
       "      <td>2007.0</td>\n",
       "    </tr>\n",
       "    <tr>\n",
       "      <th>4</th>\n",
       "      <td>NaN</td>\n",
       "      <td>72.0</td>\n",
       "      <td>26.0</td>\n",
       "      <td>127.0</td>\n",
       "      <td>78.0</td>\n",
       "      <td>0.0</td>\n",
       "      <td>2996.0</td>\n",
       "      <td>0.0</td>\n",
       "      <td>0.0</td>\n",
       "      <td>1.0</td>\n",
       "      <td>...</td>\n",
       "      <td>w</td>\n",
       "      <td>Individual</td>\n",
       "      <td>0.0</td>\n",
       "      <td>0.0</td>\n",
       "      <td>13000.0</td>\n",
       "      <td>1.0</td>\n",
       "      <td>184.0</td>\n",
       "      <td>5.0</td>\n",
       "      <td>2.0</td>\n",
       "      <td>2002.0</td>\n",
       "    </tr>\n",
       "    <tr>\n",
       "      <th>...</th>\n",
       "      <td>...</td>\n",
       "      <td>...</td>\n",
       "      <td>...</td>\n",
       "      <td>...</td>\n",
       "      <td>...</td>\n",
       "      <td>...</td>\n",
       "      <td>...</td>\n",
       "      <td>...</td>\n",
       "      <td>...</td>\n",
       "      <td>...</td>\n",
       "      <td>...</td>\n",
       "      <td>...</td>\n",
       "      <td>...</td>\n",
       "      <td>...</td>\n",
       "      <td>...</td>\n",
       "      <td>...</td>\n",
       "      <td>...</td>\n",
       "      <td>...</td>\n",
       "      <td>...</td>\n",
       "      <td>...</td>\n",
       "      <td>...</td>\n",
       "    </tr>\n",
       "    <tr>\n",
       "      <th>884879</th>\n",
       "      <td>84.0</td>\n",
       "      <td>NaN</td>\n",
       "      <td>NaN</td>\n",
       "      <td>NaN</td>\n",
       "      <td>NaN</td>\n",
       "      <td>NaN</td>\n",
       "      <td>NaN</td>\n",
       "      <td>NaN</td>\n",
       "      <td>NaN</td>\n",
       "      <td>NaN</td>\n",
       "      <td>...</td>\n",
       "      <td>w</td>\n",
       "      <td>Individual</td>\n",
       "      <td>1.0</td>\n",
       "      <td>1.0</td>\n",
       "      <td>13000.0</td>\n",
       "      <td>0.0</td>\n",
       "      <td>108.0</td>\n",
       "      <td>9.0</td>\n",
       "      <td>9.0</td>\n",
       "      <td>2003.0</td>\n",
       "    </tr>\n",
       "    <tr>\n",
       "      <th>884880</th>\n",
       "      <td>NaN</td>\n",
       "      <td>NaN</td>\n",
       "      <td>NaN</td>\n",
       "      <td>NaN</td>\n",
       "      <td>NaN</td>\n",
       "      <td>NaN</td>\n",
       "      <td>NaN</td>\n",
       "      <td>NaN</td>\n",
       "      <td>NaN</td>\n",
       "      <td>NaN</td>\n",
       "      <td>...</td>\n",
       "      <td>w</td>\n",
       "      <td>Individual</td>\n",
       "      <td>0.0</td>\n",
       "      <td>0.0</td>\n",
       "      <td>12000.0</td>\n",
       "      <td>0.0</td>\n",
       "      <td>83.0</td>\n",
       "      <td>17.0</td>\n",
       "      <td>10.0</td>\n",
       "      <td>2003.0</td>\n",
       "    </tr>\n",
       "    <tr>\n",
       "      <th>884881</th>\n",
       "      <td>110.0</td>\n",
       "      <td>NaN</td>\n",
       "      <td>NaN</td>\n",
       "      <td>NaN</td>\n",
       "      <td>NaN</td>\n",
       "      <td>NaN</td>\n",
       "      <td>NaN</td>\n",
       "      <td>NaN</td>\n",
       "      <td>NaN</td>\n",
       "      <td>NaN</td>\n",
       "      <td>...</td>\n",
       "      <td>f</td>\n",
       "      <td>Individual</td>\n",
       "      <td>1.0</td>\n",
       "      <td>0.0</td>\n",
       "      <td>20000.0</td>\n",
       "      <td>0.0</td>\n",
       "      <td>155.0</td>\n",
       "      <td>8.0</td>\n",
       "      <td>12.0</td>\n",
       "      <td>2001.0</td>\n",
       "    </tr>\n",
       "    <tr>\n",
       "      <th>884882</th>\n",
       "      <td>NaN</td>\n",
       "      <td>NaN</td>\n",
       "      <td>NaN</td>\n",
       "      <td>NaN</td>\n",
       "      <td>NaN</td>\n",
       "      <td>NaN</td>\n",
       "      <td>NaN</td>\n",
       "      <td>NaN</td>\n",
       "      <td>NaN</td>\n",
       "      <td>NaN</td>\n",
       "      <td>...</td>\n",
       "      <td>NaN</td>\n",
       "      <td>NaN</td>\n",
       "      <td>NaN</td>\n",
       "      <td>NaN</td>\n",
       "      <td>NaN</td>\n",
       "      <td>NaN</td>\n",
       "      <td>NaN</td>\n",
       "      <td>NaN</td>\n",
       "      <td>NaN</td>\n",
       "      <td>NaN</td>\n",
       "    </tr>\n",
       "    <tr>\n",
       "      <th>884883</th>\n",
       "      <td>NaN</td>\n",
       "      <td>NaN</td>\n",
       "      <td>NaN</td>\n",
       "      <td>NaN</td>\n",
       "      <td>NaN</td>\n",
       "      <td>NaN</td>\n",
       "      <td>NaN</td>\n",
       "      <td>NaN</td>\n",
       "      <td>NaN</td>\n",
       "      <td>NaN</td>\n",
       "      <td>...</td>\n",
       "      <td>NaN</td>\n",
       "      <td>NaN</td>\n",
       "      <td>NaN</td>\n",
       "      <td>NaN</td>\n",
       "      <td>NaN</td>\n",
       "      <td>NaN</td>\n",
       "      <td>NaN</td>\n",
       "      <td>NaN</td>\n",
       "      <td>NaN</td>\n",
       "      <td>NaN</td>\n",
       "    </tr>\n",
       "  </tbody>\n",
       "</table>\n",
       "<p>884884 rows × 47 columns</p>\n",
       "</div>"
      ],
      "text/plain": [
       "        mths_since_last_record  il_util  mths_since_recent_bc_dlq  \\\n",
       "0                          NaN      NaN                       NaN   \n",
       "1                          NaN     69.0                       NaN   \n",
       "2                          NaN      NaN                       NaN   \n",
       "3                          NaN     95.0                       NaN   \n",
       "4                          NaN     72.0                      26.0   \n",
       "...                        ...      ...                       ...   \n",
       "884879                    84.0      NaN                       NaN   \n",
       "884880                     NaN      NaN                       NaN   \n",
       "884881                   110.0      NaN                       NaN   \n",
       "884882                     NaN      NaN                       NaN   \n",
       "884883                     NaN      NaN                       NaN   \n",
       "\n",
       "        mths_since_rcnt_il  all_util  inq_fi  max_bal_bc  total_cu_tl  \\\n",
       "0                      NaN      55.0     1.0      2315.0          0.0   \n",
       "1                     26.0      94.0     0.0      1962.0          6.0   \n",
       "2                     10.0      45.0     1.0      1950.0          5.0   \n",
       "3                      6.0      60.0     1.0      4240.0          1.0   \n",
       "4                    127.0      78.0     0.0      2996.0          0.0   \n",
       "...                    ...       ...     ...         ...          ...   \n",
       "884879                 NaN       NaN     NaN         NaN          NaN   \n",
       "884880                 NaN       NaN     NaN         NaN          NaN   \n",
       "884881                 NaN       NaN     NaN         NaN          NaN   \n",
       "884882                 NaN       NaN     NaN         NaN          NaN   \n",
       "884883                 NaN       NaN     NaN         NaN          NaN   \n",
       "\n",
       "        open_acc_6m  open_act_il  ...  initial_list_status  application_type  \\\n",
       "0               0.0          0.0  ...                    w        Individual   \n",
       "1               2.0          1.0  ...                    w        Individual   \n",
       "2               1.0          0.0  ...                    w        Individual   \n",
       "3               1.0         10.0  ...                    w        Individual   \n",
       "4               0.0          1.0  ...                    w        Individual   \n",
       "...             ...          ...  ...                  ...               ...   \n",
       "884879          NaN          NaN  ...                    w        Individual   \n",
       "884880          NaN          NaN  ...                    w        Individual   \n",
       "884881          NaN          NaN  ...                    f        Individual   \n",
       "884882          NaN          NaN  ...                  NaN               NaN   \n",
       "884883          NaN          NaN  ...                  NaN               NaN   \n",
       "\n",
       "        pub_rec  pub_rec_bankruptcies  loan_amnt  mort_acc  \\\n",
       "0           0.0                   0.0     2300.0       0.0   \n",
       "1           0.0                   0.0    16000.0       7.0   \n",
       "2           0.0                   0.0     6025.0       2.0   \n",
       "3           0.0                   0.0    20400.0       0.0   \n",
       "4           0.0                   0.0    13000.0       1.0   \n",
       "...         ...                   ...        ...       ...   \n",
       "884879      1.0                   1.0    13000.0       0.0   \n",
       "884880      0.0                   0.0    12000.0       0.0   \n",
       "884881      1.0                   0.0    20000.0       0.0   \n",
       "884882      NaN                   NaN        NaN       NaN   \n",
       "884883      NaN                   NaN        NaN       NaN   \n",
       "\n",
       "        mo_sin_old_rev_tl_op  open_acc  earliest_cr_line_month  \\\n",
       "0                      381.0       4.0                     9.0   \n",
       "1                      300.0       9.0                     6.0   \n",
       "2                      180.0      11.0                     6.0   \n",
       "3                      125.0      15.0                     1.0   \n",
       "4                      184.0       5.0                     2.0   \n",
       "...                      ...       ...                     ...   \n",
       "884879                 108.0       9.0                     9.0   \n",
       "884880                  83.0      17.0                    10.0   \n",
       "884881                 155.0       8.0                    12.0   \n",
       "884882                   NaN       NaN                     NaN   \n",
       "884883                   NaN       NaN                     NaN   \n",
       "\n",
       "        earliest_cr_line_year  \n",
       "0                      1985.0  \n",
       "1                      1992.0  \n",
       "2                      2002.0  \n",
       "3                      2007.0  \n",
       "4                      2002.0  \n",
       "...                       ...  \n",
       "884879                 2003.0  \n",
       "884880                 2003.0  \n",
       "884881                 2001.0  \n",
       "884882                    NaN  \n",
       "884883                    NaN  \n",
       "\n",
       "[884884 rows x 47 columns]"
      ]
     },
     "execution_count": 64,
     "metadata": {},
     "output_type": "execute_result"
    }
   ],
   "source": [
    "pd_loan=pd.read_csv('pd_data_initial_preprocessing.csv').drop([\"id\",'emp_title', \"url\", \"zip_code\"],axis=1)\n",
    "pd_loan"
   ]
  },
  {
   "cell_type": "code",
   "execution_count": 65,
   "id": "41422f90",
   "metadata": {
    "scrolled": true
   },
   "outputs": [],
   "source": [
    "pd_loan.drop( pd_loan.tail(2).index,inplace=True)\n"
   ]
  },
  {
   "cell_type": "markdown",
   "id": "d07c0eb4",
   "metadata": {},
   "source": [
    "Observamos que los dos ultimos datos tienen datos muy extraños, los eliminamos.\n",
    "En caso de ser necesario volveriamos aquí para verlos."
   ]
  },
  {
   "cell_type": "code",
   "execution_count": 66,
   "id": "e07f7675",
   "metadata": {
    "scrolled": true
   },
   "outputs": [
    {
     "data": {
      "text/html": [
       "<div>\n",
       "<style scoped>\n",
       "    .dataframe tbody tr th:only-of-type {\n",
       "        vertical-align: middle;\n",
       "    }\n",
       "\n",
       "    .dataframe tbody tr th {\n",
       "        vertical-align: top;\n",
       "    }\n",
       "\n",
       "    .dataframe thead th {\n",
       "        text-align: right;\n",
       "    }\n",
       "</style>\n",
       "<table border=\"1\" class=\"dataframe\">\n",
       "  <thead>\n",
       "    <tr style=\"text-align: right;\">\n",
       "      <th></th>\n",
       "      <th>0</th>\n",
       "      <th>1</th>\n",
       "      <th>2</th>\n",
       "      <th>3</th>\n",
       "      <th>4</th>\n",
       "    </tr>\n",
       "  </thead>\n",
       "  <tbody>\n",
       "    <tr>\n",
       "      <th>mths_since_last_record</th>\n",
       "      <td>NaN</td>\n",
       "      <td>NaN</td>\n",
       "      <td>NaN</td>\n",
       "      <td>NaN</td>\n",
       "      <td>NaN</td>\n",
       "    </tr>\n",
       "    <tr>\n",
       "      <th>il_util</th>\n",
       "      <td>NaN</td>\n",
       "      <td>69.0</td>\n",
       "      <td>NaN</td>\n",
       "      <td>95.0</td>\n",
       "      <td>72.0</td>\n",
       "    </tr>\n",
       "    <tr>\n",
       "      <th>mths_since_recent_bc_dlq</th>\n",
       "      <td>NaN</td>\n",
       "      <td>NaN</td>\n",
       "      <td>NaN</td>\n",
       "      <td>NaN</td>\n",
       "      <td>26.0</td>\n",
       "    </tr>\n",
       "    <tr>\n",
       "      <th>mths_since_rcnt_il</th>\n",
       "      <td>NaN</td>\n",
       "      <td>26.0</td>\n",
       "      <td>10.0</td>\n",
       "      <td>6.0</td>\n",
       "      <td>127.0</td>\n",
       "    </tr>\n",
       "    <tr>\n",
       "      <th>all_util</th>\n",
       "      <td>55.0</td>\n",
       "      <td>94.0</td>\n",
       "      <td>45.0</td>\n",
       "      <td>60.0</td>\n",
       "      <td>78.0</td>\n",
       "    </tr>\n",
       "    <tr>\n",
       "      <th>inq_fi</th>\n",
       "      <td>1.0</td>\n",
       "      <td>0.0</td>\n",
       "      <td>1.0</td>\n",
       "      <td>1.0</td>\n",
       "      <td>0.0</td>\n",
       "    </tr>\n",
       "    <tr>\n",
       "      <th>max_bal_bc</th>\n",
       "      <td>2315.0</td>\n",
       "      <td>1962.0</td>\n",
       "      <td>1950.0</td>\n",
       "      <td>4240.0</td>\n",
       "      <td>2996.0</td>\n",
       "    </tr>\n",
       "    <tr>\n",
       "      <th>total_cu_tl</th>\n",
       "      <td>0.0</td>\n",
       "      <td>6.0</td>\n",
       "      <td>5.0</td>\n",
       "      <td>1.0</td>\n",
       "      <td>0.0</td>\n",
       "    </tr>\n",
       "    <tr>\n",
       "      <th>open_acc_6m</th>\n",
       "      <td>0.0</td>\n",
       "      <td>2.0</td>\n",
       "      <td>1.0</td>\n",
       "      <td>1.0</td>\n",
       "      <td>0.0</td>\n",
       "    </tr>\n",
       "    <tr>\n",
       "      <th>open_act_il</th>\n",
       "      <td>0.0</td>\n",
       "      <td>1.0</td>\n",
       "      <td>0.0</td>\n",
       "      <td>10.0</td>\n",
       "      <td>1.0</td>\n",
       "    </tr>\n",
       "    <tr>\n",
       "      <th>open_il_12m</th>\n",
       "      <td>0.0</td>\n",
       "      <td>0.0</td>\n",
       "      <td>1.0</td>\n",
       "      <td>1.0</td>\n",
       "      <td>0.0</td>\n",
       "    </tr>\n",
       "    <tr>\n",
       "      <th>total_bal_il</th>\n",
       "      <td>0.0</td>\n",
       "      <td>11078.0</td>\n",
       "      <td>0.0</td>\n",
       "      <td>53566.0</td>\n",
       "      <td>8466.0</td>\n",
       "    </tr>\n",
       "    <tr>\n",
       "      <th>open_rv_12m</th>\n",
       "      <td>1.0</td>\n",
       "      <td>3.0</td>\n",
       "      <td>1.0</td>\n",
       "      <td>1.0</td>\n",
       "      <td>0.0</td>\n",
       "    </tr>\n",
       "    <tr>\n",
       "      <th>open_rv_24m</th>\n",
       "      <td>2.0</td>\n",
       "      <td>5.0</td>\n",
       "      <td>2.0</td>\n",
       "      <td>2.0</td>\n",
       "      <td>1.0</td>\n",
       "    </tr>\n",
       "    <tr>\n",
       "      <th>open_il_24m</th>\n",
       "      <td>0.0</td>\n",
       "      <td>0.0</td>\n",
       "      <td>2.0</td>\n",
       "      <td>1.0</td>\n",
       "      <td>0.0</td>\n",
       "    </tr>\n",
       "    <tr>\n",
       "      <th>inq_last_12m</th>\n",
       "      <td>2.0</td>\n",
       "      <td>1.0</td>\n",
       "      <td>3.0</td>\n",
       "      <td>1.0</td>\n",
       "      <td>0.0</td>\n",
       "    </tr>\n",
       "    <tr>\n",
       "      <th>mths_since_last_major_derog</th>\n",
       "      <td>NaN</td>\n",
       "      <td>NaN</td>\n",
       "      <td>NaN</td>\n",
       "      <td>NaN</td>\n",
       "      <td>16.0</td>\n",
       "    </tr>\n",
       "    <tr>\n",
       "      <th>mths_since_recent_revol_delinq</th>\n",
       "      <td>NaN</td>\n",
       "      <td>NaN</td>\n",
       "      <td>NaN</td>\n",
       "      <td>NaN</td>\n",
       "      <td>16.0</td>\n",
       "    </tr>\n",
       "    <tr>\n",
       "      <th>mths_since_last_delinq</th>\n",
       "      <td>NaN</td>\n",
       "      <td>NaN</td>\n",
       "      <td>NaN</td>\n",
       "      <td>NaN</td>\n",
       "      <td>16.0</td>\n",
       "    </tr>\n",
       "    <tr>\n",
       "      <th>emp_length</th>\n",
       "      <td>NaN</td>\n",
       "      <td>10.0</td>\n",
       "      <td>7.0</td>\n",
       "      <td>10.0</td>\n",
       "      <td>10.0</td>\n",
       "    </tr>\n",
       "    <tr>\n",
       "      <th>mo_sin_old_il_acct</th>\n",
       "      <td>NaN</td>\n",
       "      <td>26.0</td>\n",
       "      <td>86.0</td>\n",
       "      <td>125.0</td>\n",
       "      <td>160.0</td>\n",
       "    </tr>\n",
       "    <tr>\n",
       "      <th>revol_util</th>\n",
       "      <td>55.1</td>\n",
       "      <td>105.8</td>\n",
       "      <td>44.9</td>\n",
       "      <td>18.7</td>\n",
       "      <td>88.0</td>\n",
       "    </tr>\n",
       "    <tr>\n",
       "      <th>dti</th>\n",
       "      <td>21.61</td>\n",
       "      <td>25.61</td>\n",
       "      <td>8.88</td>\n",
       "      <td>27.06</td>\n",
       "      <td>6.79</td>\n",
       "    </tr>\n",
       "    <tr>\n",
       "      <th>verification_status</th>\n",
       "      <td>Not Verified</td>\n",
       "      <td>Not Verified</td>\n",
       "      <td>Not Verified</td>\n",
       "      <td>Source Verified</td>\n",
       "      <td>Source Verified</td>\n",
       "    </tr>\n",
       "    <tr>\n",
       "      <th>annual_inc</th>\n",
       "      <td>10000.0</td>\n",
       "      <td>94000.0</td>\n",
       "      <td>46350.0</td>\n",
       "      <td>44000.0</td>\n",
       "      <td>85000.0</td>\n",
       "    </tr>\n",
       "    <tr>\n",
       "      <th>home_ownership</th>\n",
       "      <td>OWN</td>\n",
       "      <td>MORTGAGE</td>\n",
       "      <td>MORTGAGE</td>\n",
       "      <td>RENT</td>\n",
       "      <td>MORTGAGE</td>\n",
       "    </tr>\n",
       "    <tr>\n",
       "      <th>sub_grade</th>\n",
       "      <td>1.0</td>\n",
       "      <td>1.0</td>\n",
       "      <td>4.0</td>\n",
       "      <td>1.0</td>\n",
       "      <td>5.0</td>\n",
       "    </tr>\n",
       "    <tr>\n",
       "      <th>grade</th>\n",
       "      <td>C</td>\n",
       "      <td>C</td>\n",
       "      <td>C</td>\n",
       "      <td>B</td>\n",
       "      <td>B</td>\n",
       "    </tr>\n",
       "    <tr>\n",
       "      <th>term</th>\n",
       "      <td>36.0</td>\n",
       "      <td>60.0</td>\n",
       "      <td>36.0</td>\n",
       "      <td>36.0</td>\n",
       "      <td>36.0</td>\n",
       "    </tr>\n",
       "    <tr>\n",
       "      <th>int_rate</th>\n",
       "      <td>12.62</td>\n",
       "      <td>12.62</td>\n",
       "      <td>15.05</td>\n",
       "      <td>9.44</td>\n",
       "      <td>11.99</td>\n",
       "    </tr>\n",
       "    <tr>\n",
       "      <th>installment</th>\n",
       "      <td>77.08</td>\n",
       "      <td>360.95</td>\n",
       "      <td>209.01</td>\n",
       "      <td>652.91</td>\n",
       "      <td>431.73</td>\n",
       "    </tr>\n",
       "    <tr>\n",
       "      <th>loan_status</th>\n",
       "      <td>Current</td>\n",
       "      <td>Current</td>\n",
       "      <td>Current</td>\n",
       "      <td>Current</td>\n",
       "      <td>Current</td>\n",
       "    </tr>\n",
       "    <tr>\n",
       "      <th>total_acc</th>\n",
       "      <td>6.0</td>\n",
       "      <td>26.0</td>\n",
       "      <td>27.0</td>\n",
       "      <td>19.0</td>\n",
       "      <td>24.0</td>\n",
       "    </tr>\n",
       "    <tr>\n",
       "      <th>purpose</th>\n",
       "      <td>credit_card</td>\n",
       "      <td>debt_consolidation</td>\n",
       "      <td>home_improvement</td>\n",
       "      <td>car</td>\n",
       "      <td>debt_consolidation</td>\n",
       "    </tr>\n",
       "    <tr>\n",
       "      <th>addr_state</th>\n",
       "      <td>NY</td>\n",
       "      <td>MA</td>\n",
       "      <td>MA</td>\n",
       "      <td>CA</td>\n",
       "      <td>MN</td>\n",
       "    </tr>\n",
       "    <tr>\n",
       "      <th>fico_range_low</th>\n",
       "      <td>700.0</td>\n",
       "      <td>715.0</td>\n",
       "      <td>700.0</td>\n",
       "      <td>760.0</td>\n",
       "      <td>660.0</td>\n",
       "    </tr>\n",
       "    <tr>\n",
       "      <th>fico_range_high</th>\n",
       "      <td>704.0</td>\n",
       "      <td>719.0</td>\n",
       "      <td>704.0</td>\n",
       "      <td>764.0</td>\n",
       "      <td>664.0</td>\n",
       "    </tr>\n",
       "    <tr>\n",
       "      <th>initial_list_status</th>\n",
       "      <td>w</td>\n",
       "      <td>w</td>\n",
       "      <td>w</td>\n",
       "      <td>w</td>\n",
       "      <td>w</td>\n",
       "    </tr>\n",
       "    <tr>\n",
       "      <th>application_type</th>\n",
       "      <td>Individual</td>\n",
       "      <td>Individual</td>\n",
       "      <td>Individual</td>\n",
       "      <td>Individual</td>\n",
       "      <td>Individual</td>\n",
       "    </tr>\n",
       "    <tr>\n",
       "      <th>pub_rec</th>\n",
       "      <td>0.0</td>\n",
       "      <td>0.0</td>\n",
       "      <td>0.0</td>\n",
       "      <td>0.0</td>\n",
       "      <td>0.0</td>\n",
       "    </tr>\n",
       "    <tr>\n",
       "      <th>pub_rec_bankruptcies</th>\n",
       "      <td>0.0</td>\n",
       "      <td>0.0</td>\n",
       "      <td>0.0</td>\n",
       "      <td>0.0</td>\n",
       "      <td>0.0</td>\n",
       "    </tr>\n",
       "    <tr>\n",
       "      <th>loan_amnt</th>\n",
       "      <td>2300.0</td>\n",
       "      <td>16000.0</td>\n",
       "      <td>6025.0</td>\n",
       "      <td>20400.0</td>\n",
       "      <td>13000.0</td>\n",
       "    </tr>\n",
       "    <tr>\n",
       "      <th>mort_acc</th>\n",
       "      <td>0.0</td>\n",
       "      <td>7.0</td>\n",
       "      <td>2.0</td>\n",
       "      <td>0.0</td>\n",
       "      <td>1.0</td>\n",
       "    </tr>\n",
       "    <tr>\n",
       "      <th>mo_sin_old_rev_tl_op</th>\n",
       "      <td>381.0</td>\n",
       "      <td>300.0</td>\n",
       "      <td>180.0</td>\n",
       "      <td>125.0</td>\n",
       "      <td>184.0</td>\n",
       "    </tr>\n",
       "    <tr>\n",
       "      <th>open_acc</th>\n",
       "      <td>4.0</td>\n",
       "      <td>9.0</td>\n",
       "      <td>11.0</td>\n",
       "      <td>15.0</td>\n",
       "      <td>5.0</td>\n",
       "    </tr>\n",
       "    <tr>\n",
       "      <th>earliest_cr_line_month</th>\n",
       "      <td>9.0</td>\n",
       "      <td>6.0</td>\n",
       "      <td>6.0</td>\n",
       "      <td>1.0</td>\n",
       "      <td>2.0</td>\n",
       "    </tr>\n",
       "    <tr>\n",
       "      <th>earliest_cr_line_year</th>\n",
       "      <td>1985.0</td>\n",
       "      <td>1992.0</td>\n",
       "      <td>2002.0</td>\n",
       "      <td>2007.0</td>\n",
       "      <td>2002.0</td>\n",
       "    </tr>\n",
       "  </tbody>\n",
       "</table>\n",
       "</div>"
      ],
      "text/plain": [
       "                                           0                   1  \\\n",
       "mths_since_last_record                   NaN                 NaN   \n",
       "il_util                                  NaN                69.0   \n",
       "mths_since_recent_bc_dlq                 NaN                 NaN   \n",
       "mths_since_rcnt_il                       NaN                26.0   \n",
       "all_util                                55.0                94.0   \n",
       "inq_fi                                   1.0                 0.0   \n",
       "max_bal_bc                            2315.0              1962.0   \n",
       "total_cu_tl                              0.0                 6.0   \n",
       "open_acc_6m                              0.0                 2.0   \n",
       "open_act_il                              0.0                 1.0   \n",
       "open_il_12m                              0.0                 0.0   \n",
       "total_bal_il                             0.0             11078.0   \n",
       "open_rv_12m                              1.0                 3.0   \n",
       "open_rv_24m                              2.0                 5.0   \n",
       "open_il_24m                              0.0                 0.0   \n",
       "inq_last_12m                             2.0                 1.0   \n",
       "mths_since_last_major_derog              NaN                 NaN   \n",
       "mths_since_recent_revol_delinq           NaN                 NaN   \n",
       "mths_since_last_delinq                   NaN                 NaN   \n",
       "emp_length                               NaN                10.0   \n",
       "mo_sin_old_il_acct                       NaN                26.0   \n",
       "revol_util                              55.1               105.8   \n",
       "dti                                    21.61               25.61   \n",
       "verification_status             Not Verified        Not Verified   \n",
       "annual_inc                           10000.0             94000.0   \n",
       "home_ownership                           OWN            MORTGAGE   \n",
       "sub_grade                                1.0                 1.0   \n",
       "grade                                      C                   C   \n",
       "term                                    36.0                60.0   \n",
       "int_rate                               12.62               12.62   \n",
       "installment                            77.08              360.95   \n",
       "loan_status                          Current             Current   \n",
       "total_acc                                6.0                26.0   \n",
       "purpose                          credit_card  debt_consolidation   \n",
       "addr_state                                NY                  MA   \n",
       "fico_range_low                         700.0               715.0   \n",
       "fico_range_high                        704.0               719.0   \n",
       "initial_list_status                        w                   w   \n",
       "application_type                  Individual          Individual   \n",
       "pub_rec                                  0.0                 0.0   \n",
       "pub_rec_bankruptcies                     0.0                 0.0   \n",
       "loan_amnt                             2300.0             16000.0   \n",
       "mort_acc                                 0.0                 7.0   \n",
       "mo_sin_old_rev_tl_op                   381.0               300.0   \n",
       "open_acc                                 4.0                 9.0   \n",
       "earliest_cr_line_month                   9.0                 6.0   \n",
       "earliest_cr_line_year                 1985.0              1992.0   \n",
       "\n",
       "                                               2                3  \\\n",
       "mths_since_last_record                       NaN              NaN   \n",
       "il_util                                      NaN             95.0   \n",
       "mths_since_recent_bc_dlq                     NaN              NaN   \n",
       "mths_since_rcnt_il                          10.0              6.0   \n",
       "all_util                                    45.0             60.0   \n",
       "inq_fi                                       1.0              1.0   \n",
       "max_bal_bc                                1950.0           4240.0   \n",
       "total_cu_tl                                  5.0              1.0   \n",
       "open_acc_6m                                  1.0              1.0   \n",
       "open_act_il                                  0.0             10.0   \n",
       "open_il_12m                                  1.0              1.0   \n",
       "total_bal_il                                 0.0          53566.0   \n",
       "open_rv_12m                                  1.0              1.0   \n",
       "open_rv_24m                                  2.0              2.0   \n",
       "open_il_24m                                  2.0              1.0   \n",
       "inq_last_12m                                 3.0              1.0   \n",
       "mths_since_last_major_derog                  NaN              NaN   \n",
       "mths_since_recent_revol_delinq               NaN              NaN   \n",
       "mths_since_last_delinq                       NaN              NaN   \n",
       "emp_length                                   7.0             10.0   \n",
       "mo_sin_old_il_acct                          86.0            125.0   \n",
       "revol_util                                  44.9             18.7   \n",
       "dti                                         8.88            27.06   \n",
       "verification_status                 Not Verified  Source Verified   \n",
       "annual_inc                               46350.0          44000.0   \n",
       "home_ownership                          MORTGAGE             RENT   \n",
       "sub_grade                                    4.0              1.0   \n",
       "grade                                          C                B   \n",
       "term                                        36.0             36.0   \n",
       "int_rate                                   15.05             9.44   \n",
       "installment                               209.01           652.91   \n",
       "loan_status                              Current          Current   \n",
       "total_acc                                   27.0             19.0   \n",
       "purpose                         home_improvement              car   \n",
       "addr_state                                    MA               CA   \n",
       "fico_range_low                             700.0            760.0   \n",
       "fico_range_high                            704.0            764.0   \n",
       "initial_list_status                            w                w   \n",
       "application_type                      Individual       Individual   \n",
       "pub_rec                                      0.0              0.0   \n",
       "pub_rec_bankruptcies                         0.0              0.0   \n",
       "loan_amnt                                 6025.0          20400.0   \n",
       "mort_acc                                     2.0              0.0   \n",
       "mo_sin_old_rev_tl_op                       180.0            125.0   \n",
       "open_acc                                    11.0             15.0   \n",
       "earliest_cr_line_month                       6.0              1.0   \n",
       "earliest_cr_line_year                     2002.0           2007.0   \n",
       "\n",
       "                                                 4  \n",
       "mths_since_last_record                         NaN  \n",
       "il_util                                       72.0  \n",
       "mths_since_recent_bc_dlq                      26.0  \n",
       "mths_since_rcnt_il                           127.0  \n",
       "all_util                                      78.0  \n",
       "inq_fi                                         0.0  \n",
       "max_bal_bc                                  2996.0  \n",
       "total_cu_tl                                    0.0  \n",
       "open_acc_6m                                    0.0  \n",
       "open_act_il                                    1.0  \n",
       "open_il_12m                                    0.0  \n",
       "total_bal_il                                8466.0  \n",
       "open_rv_12m                                    0.0  \n",
       "open_rv_24m                                    1.0  \n",
       "open_il_24m                                    0.0  \n",
       "inq_last_12m                                   0.0  \n",
       "mths_since_last_major_derog                   16.0  \n",
       "mths_since_recent_revol_delinq                16.0  \n",
       "mths_since_last_delinq                        16.0  \n",
       "emp_length                                    10.0  \n",
       "mo_sin_old_il_acct                           160.0  \n",
       "revol_util                                    88.0  \n",
       "dti                                           6.79  \n",
       "verification_status                Source Verified  \n",
       "annual_inc                                 85000.0  \n",
       "home_ownership                            MORTGAGE  \n",
       "sub_grade                                      5.0  \n",
       "grade                                            B  \n",
       "term                                          36.0  \n",
       "int_rate                                     11.99  \n",
       "installment                                 431.73  \n",
       "loan_status                                Current  \n",
       "total_acc                                     24.0  \n",
       "purpose                         debt_consolidation  \n",
       "addr_state                                      MN  \n",
       "fico_range_low                               660.0  \n",
       "fico_range_high                              664.0  \n",
       "initial_list_status                              w  \n",
       "application_type                        Individual  \n",
       "pub_rec                                        0.0  \n",
       "pub_rec_bankruptcies                           0.0  \n",
       "loan_amnt                                  13000.0  \n",
       "mort_acc                                       1.0  \n",
       "mo_sin_old_rev_tl_op                         184.0  \n",
       "open_acc                                       5.0  \n",
       "earliest_cr_line_month                         2.0  \n",
       "earliest_cr_line_year                       2002.0  "
      ]
     },
     "execution_count": 66,
     "metadata": {},
     "output_type": "execute_result"
    }
   ],
   "source": [
    "pd_loan.head(5).T "
   ]
  },
  {
   "cell_type": "markdown",
   "id": "41c87751",
   "metadata": {},
   "source": [
    "Vemos la información de la variable objetivo"
   ]
  },
  {
   "cell_type": "code",
   "execution_count": 67,
   "id": "6b2d51ee",
   "metadata": {},
   "outputs": [
    {
     "data": {
      "text/html": [
       "<div>\n",
       "<style scoped>\n",
       "    .dataframe tbody tr th:only-of-type {\n",
       "        vertical-align: middle;\n",
       "    }\n",
       "\n",
       "    .dataframe tbody tr th {\n",
       "        vertical-align: top;\n",
       "    }\n",
       "\n",
       "    .dataframe thead th {\n",
       "        text-align: right;\n",
       "    }\n",
       "</style>\n",
       "<table border=\"1\" class=\"dataframe\">\n",
       "  <thead>\n",
       "    <tr style=\"text-align: right;\">\n",
       "      <th></th>\n",
       "      <th>index</th>\n",
       "      <th>loan_status</th>\n",
       "      <th>percent</th>\n",
       "    </tr>\n",
       "  </thead>\n",
       "  <tbody>\n",
       "    <tr>\n",
       "      <th>0</th>\n",
       "      <td>Current</td>\n",
       "      <td>422685</td>\n",
       "      <td>47.767710</td>\n",
       "    </tr>\n",
       "    <tr>\n",
       "      <th>1</th>\n",
       "      <td>Fully Paid</td>\n",
       "      <td>345520</td>\n",
       "      <td>39.047279</td>\n",
       "    </tr>\n",
       "    <tr>\n",
       "      <th>2</th>\n",
       "      <td>Charged Off</td>\n",
       "      <td>97047</td>\n",
       "      <td>10.967299</td>\n",
       "    </tr>\n",
       "    <tr>\n",
       "      <th>3</th>\n",
       "      <td>Late (31-120 days)</td>\n",
       "      <td>11168</td>\n",
       "      <td>1.262098</td>\n",
       "    </tr>\n",
       "    <tr>\n",
       "      <th>4</th>\n",
       "      <td>In Grace Period</td>\n",
       "      <td>5507</td>\n",
       "      <td>0.622347</td>\n",
       "    </tr>\n",
       "    <tr>\n",
       "      <th>5</th>\n",
       "      <td>Late (16-30 days)</td>\n",
       "      <td>2915</td>\n",
       "      <td>0.329425</td>\n",
       "    </tr>\n",
       "    <tr>\n",
       "      <th>6</th>\n",
       "      <td>Default</td>\n",
       "      <td>34</td>\n",
       "      <td>0.003842</td>\n",
       "    </tr>\n",
       "  </tbody>\n",
       "</table>\n",
       "</div>"
      ],
      "text/plain": [
       "                index  loan_status    percent\n",
       "0             Current       422685  47.767710\n",
       "1          Fully Paid       345520  39.047279\n",
       "2         Charged Off        97047  10.967299\n",
       "3  Late (31-120 days)        11168   1.262098\n",
       "4     In Grace Period         5507   0.622347\n",
       "5   Late (16-30 days)         2915   0.329425\n",
       "6             Default           34   0.003842"
      ]
     },
     "execution_count": 67,
     "metadata": {},
     "output_type": "execute_result"
    }
   ],
   "source": [
    "pd_plot_loan_status_count=pd_loan['loan_status'].value_counts().reset_index() #Para el conteo absoluto\n",
    "pd_plot_loan_status_percent=pd_loan['loan_status'].value_counts(normalize=True)\\\n",
    "                .mul(100).rename('percent').reset_index() #Para el porcentaje\n",
    "#Juntamos ambas en una misma tabla\n",
    "pd_plot_loan_status=pd.merge(pd_plot_loan_status_count,pd_plot_loan_status_percent)\n",
    "pd_plot_loan_status"
   ]
  },
  {
   "cell_type": "markdown",
   "id": "1183526e",
   "metadata": {},
   "source": [
    "# 1 Análisis descriptivo de los datos. "
   ]
  },
  {
   "cell_type": "markdown",
   "id": "c2bdf303",
   "metadata": {},
   "source": [
    "Antes de analizar los datos, dado que nos vamos a centrar en predecir si se va a pagar, no nos interesan los datos de los clientes que aún no han terminado de pagar, es decir un clinete que se ha retrasado 1 mes en el pago puede que llegue a saldar su deuda, por ello nos vamos a restringir a dichos casos."
   ]
  },
  {
   "cell_type": "markdown",
   "id": "d62bd916",
   "metadata": {},
   "source": [
    "Primero necesito crear un pd con solo dos categorías en loan_status: Fully Pais y Charged Off"
   ]
  },
  {
   "cell_type": "code",
   "execution_count": 68,
   "id": "5b1fde68",
   "metadata": {},
   "outputs": [],
   "source": [
    "pd_loan = pd_loan[(pd_loan['loan_status']=='Fully Paid') | \n",
    "                  (pd_loan['loan_status']=='Charged Off')]"
   ]
  },
  {
   "cell_type": "markdown",
   "id": "99d857d5",
   "metadata": {},
   "source": [
    "Vemos la forma de los datos"
   ]
  },
  {
   "cell_type": "code",
   "execution_count": 69,
   "id": "5aab1893",
   "metadata": {},
   "outputs": [
    {
     "data": {
      "text/plain": [
       "(442567, 47)"
      ]
     },
     "execution_count": 69,
     "metadata": {},
     "output_type": "execute_result"
    }
   ],
   "source": [
    "pd_loan.shape"
   ]
  },
  {
   "cell_type": "markdown",
   "id": "6399fa2a",
   "metadata": {},
   "source": [
    "## A. Cantidad de valores nulos."
   ]
  },
  {
   "cell_type": "markdown",
   "id": "ac23ed0e",
   "metadata": {},
   "source": [
    "Analizamos cual es el porcentaje de valores nulos:"
   ]
  },
  {
   "cell_type": "code",
   "execution_count": 70,
   "id": "d98309fe",
   "metadata": {
    "scrolled": true
   },
   "outputs": [
    {
     "data": {
      "text/plain": [
       "mths_since_last_record            0.812372\n",
       "il_util                           0.951273\n",
       "mths_since_recent_bc_dlq          0.738062\n",
       "mths_since_rcnt_il                0.945267\n",
       "all_util                          0.944006\n",
       "inq_fi                            0.943999\n",
       "max_bal_bc                        0.943999\n",
       "total_cu_tl                       0.943999\n",
       "open_acc_6m                       0.943999\n",
       "open_act_il                       0.943999\n",
       "open_il_12m                       0.943999\n",
       "total_bal_il                      0.943999\n",
       "open_rv_12m                       0.943999\n",
       "open_rv_24m                       0.943999\n",
       "open_il_24m                       0.943999\n",
       "inq_last_12m                      0.943999\n",
       "mths_since_last_major_derog       0.706553\n",
       "mths_since_recent_revol_delinq    0.640341\n",
       "mths_since_last_delinq            0.487339\n",
       "emp_length                        0.053944\n",
       "mo_sin_old_il_acct                0.028651\n",
       "revol_util                        0.000484\n",
       "dti                               0.000041\n",
       "verification_status               0.000000\n",
       "annual_inc                        0.000000\n",
       "home_ownership                    0.000000\n",
       "sub_grade                         0.000000\n",
       "grade                             0.000000\n",
       "term                              0.000000\n",
       "int_rate                          0.000000\n",
       "installment                       0.000000\n",
       "loan_status                       0.000000\n",
       "total_acc                         0.000000\n",
       "purpose                           0.000000\n",
       "addr_state                        0.000000\n",
       "fico_range_low                    0.000000\n",
       "fico_range_high                   0.000000\n",
       "initial_list_status               0.000000\n",
       "application_type                  0.000000\n",
       "pub_rec                           0.000000\n",
       "pub_rec_bankruptcies              0.000000\n",
       "loan_amnt                         0.000000\n",
       "mort_acc                          0.000000\n",
       "mo_sin_old_rev_tl_op              0.000000\n",
       "open_acc                          0.000000\n",
       "earliest_cr_line_month            0.000000\n",
       "earliest_cr_line_year             0.000000\n",
       "dtype: float64"
      ]
     },
     "execution_count": 70,
     "metadata": {},
     "output_type": "execute_result"
    }
   ],
   "source": [
    "missing=pd_loan.isna().mean()\n",
    "missing"
   ]
  },
  {
   "cell_type": "markdown",
   "id": "d8d99d0b",
   "metadata": {},
   "source": [
    "Hay una gran cantidad de variables con una gran cantidad de missings tanto en en los pagados como en los charged off, imputarlos podría suponer un problema, veremos en el punto dos cómo son las variables para ver que podemos hacer con ellas."
   ]
  },
  {
   "cell_type": "markdown",
   "id": "fb737449",
   "metadata": {},
   "source": [
    "## B.\tTipo de variables."
   ]
  },
  {
   "cell_type": "markdown",
   "id": "0e50dee5",
   "metadata": {},
   "source": [
    "Veamos de qué tipos son las variables a estudiar"
   ]
  },
  {
   "cell_type": "code",
   "execution_count": 93,
   "id": "0bd1c8ed",
   "metadata": {
    "scrolled": true
   },
   "outputs": [
    {
     "data": {
      "text/plain": [
       "dtype('bool')"
      ]
     },
     "execution_count": 93,
     "metadata": {},
     "output_type": "execute_result"
    }
   ],
   "source": [
    "pd_loan.dtypes"
   ]
  },
  {
   "cell_type": "markdown",
   "id": "e9577582",
   "metadata": {},
   "source": [
    "Sabemos que hay variables enteras que no se han importado como tal por tener nan."
   ]
  },
  {
   "cell_type": "markdown",
   "id": "b95205a8",
   "metadata": {},
   "source": [
    "Creamos tres listas unas con las variables continuas , otra con las variables categoricas y otra con la variables enteras"
   ]
  },
  {
   "cell_type": "code",
   "execution_count": 72,
   "id": "0891ef0d",
   "metadata": {},
   "outputs": [],
   "source": [
    "list_var_continuous = list(pd_loan.select_dtypes('float').columns)\n",
    "list_var_discrets = list(pd_loan.select_dtypes('O').columns)"
   ]
  },
  {
   "cell_type": "code",
   "execution_count": 73,
   "id": "f6cf7e67",
   "metadata": {
    "scrolled": true
   },
   "outputs": [
    {
     "data": {
      "text/plain": [
       "['mths_since_last_record',\n",
       " 'il_util',\n",
       " 'mths_since_recent_bc_dlq',\n",
       " 'mths_since_rcnt_il',\n",
       " 'all_util',\n",
       " 'inq_fi',\n",
       " 'max_bal_bc',\n",
       " 'total_cu_tl',\n",
       " 'open_acc_6m',\n",
       " 'open_act_il',\n",
       " 'open_il_12m',\n",
       " 'total_bal_il',\n",
       " 'open_rv_12m',\n",
       " 'open_rv_24m',\n",
       " 'open_il_24m',\n",
       " 'inq_last_12m',\n",
       " 'mths_since_last_major_derog',\n",
       " 'mths_since_recent_revol_delinq',\n",
       " 'mths_since_last_delinq',\n",
       " 'emp_length',\n",
       " 'mo_sin_old_il_acct',\n",
       " 'sub_grade',\n",
       " 'term',\n",
       " 'total_acc',\n",
       " 'fico_range_low',\n",
       " 'fico_range_high',\n",
       " 'pub_rec',\n",
       " 'pub_rec_bankruptcies',\n",
       " 'loan_amnt',\n",
       " 'mort_acc',\n",
       " 'mo_sin_old_rev_tl_op',\n",
       " 'open_acc',\n",
       " 'earliest_cr_line_month',\n",
       " 'earliest_cr_line_year']"
      ]
     },
     "execution_count": 73,
     "metadata": {},
     "output_type": "execute_result"
    }
   ],
   "source": [
    "list_var_int=[]\n",
    "list_var_float=[]\n",
    "for col in list_var_continuous:\n",
    "    if (pd_loan[col]%1).sum()==0:\n",
    "        list_var_int.append(col)\n",
    "    else:\n",
    "        list_var_float.append(col)\n",
    "list_var_int"
   ]
  },
  {
   "cell_type": "code",
   "execution_count": 74,
   "id": "d2e02c64",
   "metadata": {
    "scrolled": true
   },
   "outputs": [
    {
     "data": {
      "text/html": [
       "<div>\n",
       "<style scoped>\n",
       "    .dataframe tbody tr th:only-of-type {\n",
       "        vertical-align: middle;\n",
       "    }\n",
       "\n",
       "    .dataframe tbody tr th {\n",
       "        vertical-align: top;\n",
       "    }\n",
       "\n",
       "    .dataframe thead th {\n",
       "        text-align: right;\n",
       "    }\n",
       "</style>\n",
       "<table border=\"1\" class=\"dataframe\">\n",
       "  <thead>\n",
       "    <tr style=\"text-align: right;\">\n",
       "      <th></th>\n",
       "      <th>revol_util</th>\n",
       "      <th>dti</th>\n",
       "      <th>annual_inc</th>\n",
       "      <th>int_rate</th>\n",
       "      <th>installment</th>\n",
       "    </tr>\n",
       "  </thead>\n",
       "  <tbody>\n",
       "    <tr>\n",
       "      <th>8</th>\n",
       "      <td>22.7</td>\n",
       "      <td>16.99</td>\n",
       "      <td>153000.0</td>\n",
       "      <td>7.35</td>\n",
       "      <td>359.26</td>\n",
       "    </tr>\n",
       "    <tr>\n",
       "      <th>10</th>\n",
       "      <td>98.9</td>\n",
       "      <td>6.07</td>\n",
       "      <td>50000.0</td>\n",
       "      <td>24.85</td>\n",
       "      <td>285.70</td>\n",
       "    </tr>\n",
       "    <tr>\n",
       "      <th>24</th>\n",
       "      <td>27.2</td>\n",
       "      <td>13.12</td>\n",
       "      <td>110000.0</td>\n",
       "      <td>7.35</td>\n",
       "      <td>232.79</td>\n",
       "    </tr>\n",
       "    <tr>\n",
       "      <th>42</th>\n",
       "      <td>20.0</td>\n",
       "      <td>10.11</td>\n",
       "      <td>51979.0</td>\n",
       "      <td>16.02</td>\n",
       "      <td>243.29</td>\n",
       "    </tr>\n",
       "    <tr>\n",
       "      <th>91</th>\n",
       "      <td>90.0</td>\n",
       "      <td>10.86</td>\n",
       "      <td>75000.0</td>\n",
       "      <td>16.02</td>\n",
       "      <td>492.34</td>\n",
       "    </tr>\n",
       "    <tr>\n",
       "      <th>...</th>\n",
       "      <td>...</td>\n",
       "      <td>...</td>\n",
       "      <td>...</td>\n",
       "      <td>...</td>\n",
       "      <td>...</td>\n",
       "    </tr>\n",
       "    <tr>\n",
       "      <th>884875</th>\n",
       "      <td>65.0</td>\n",
       "      <td>27.08</td>\n",
       "      <td>25400.0</td>\n",
       "      <td>15.59</td>\n",
       "      <td>404.61</td>\n",
       "    </tr>\n",
       "    <tr>\n",
       "      <th>884876</th>\n",
       "      <td>69.7</td>\n",
       "      <td>23.69</td>\n",
       "      <td>63000.0</td>\n",
       "      <td>11.99</td>\n",
       "      <td>398.52</td>\n",
       "    </tr>\n",
       "    <tr>\n",
       "      <th>884879</th>\n",
       "      <td>61.3</td>\n",
       "      <td>30.90</td>\n",
       "      <td>35000.0</td>\n",
       "      <td>15.99</td>\n",
       "      <td>316.07</td>\n",
       "    </tr>\n",
       "    <tr>\n",
       "      <th>884880</th>\n",
       "      <td>30.6</td>\n",
       "      <td>27.19</td>\n",
       "      <td>64400.0</td>\n",
       "      <td>19.99</td>\n",
       "      <td>317.86</td>\n",
       "    </tr>\n",
       "    <tr>\n",
       "      <th>884881</th>\n",
       "      <td>79.8</td>\n",
       "      <td>10.83</td>\n",
       "      <td>100000.0</td>\n",
       "      <td>11.99</td>\n",
       "      <td>664.20</td>\n",
       "    </tr>\n",
       "  </tbody>\n",
       "</table>\n",
       "<p>442567 rows × 5 columns</p>\n",
       "</div>"
      ],
      "text/plain": [
       "        revol_util    dti  annual_inc  int_rate  installment\n",
       "8             22.7  16.99    153000.0      7.35       359.26\n",
       "10            98.9   6.07     50000.0     24.85       285.70\n",
       "24            27.2  13.12    110000.0      7.35       232.79\n",
       "42            20.0  10.11     51979.0     16.02       243.29\n",
       "91            90.0  10.86     75000.0     16.02       492.34\n",
       "...            ...    ...         ...       ...          ...\n",
       "884875        65.0  27.08     25400.0     15.59       404.61\n",
       "884876        69.7  23.69     63000.0     11.99       398.52\n",
       "884879        61.3  30.90     35000.0     15.99       316.07\n",
       "884880        30.6  27.19     64400.0     19.99       317.86\n",
       "884881        79.8  10.83    100000.0     11.99       664.20\n",
       "\n",
       "[442567 rows x 5 columns]"
      ]
     },
     "execution_count": 74,
     "metadata": {},
     "output_type": "execute_result"
    }
   ],
   "source": [
    "pd_loan[list_var_float]"
   ]
  },
  {
   "cell_type": "markdown",
   "id": "ac6fe97e",
   "metadata": {},
   "source": [
    "## C) distribución de los valores de la variable objetivo."
   ]
  },
  {
   "cell_type": "markdown",
   "id": "c4536711",
   "metadata": {},
   "source": [
    "Realizamos un histograma y comparamos datos para comprobar cómo de desvalanceados están los datos que vamos a analizar."
   ]
  },
  {
   "cell_type": "markdown",
   "id": "9d8526d1",
   "metadata": {},
   "source": [
    "Para el conteo absoluto:"
   ]
  },
  {
   "cell_type": "code",
   "execution_count": 75,
   "id": "d3211313",
   "metadata": {},
   "outputs": [],
   "source": [
    "pd_plot_loan_status_count=pd_loan['loan_status'].value_counts().reset_index() "
   ]
  },
  {
   "cell_type": "markdown",
   "id": "2323d7b2",
   "metadata": {},
   "source": [
    "Para el porcentaje:"
   ]
  },
  {
   "cell_type": "code",
   "execution_count": 76,
   "id": "f9c21e6c",
   "metadata": {},
   "outputs": [],
   "source": [
    "pd_plot_loan_status_percent=pd_loan['loan_status'].value_counts(normalize=True)\\\n",
    "                .mul(100).rename('percent').reset_index() "
   ]
  },
  {
   "cell_type": "markdown",
   "id": "d2f09b6a",
   "metadata": {},
   "source": [
    "Los unimos:"
   ]
  },
  {
   "cell_type": "code",
   "execution_count": 77,
   "id": "afba5a51",
   "metadata": {},
   "outputs": [],
   "source": [
    "pd_plot_loan_status=pd.merge(pd_plot_loan_status_count,pd_plot_loan_status_percent)"
   ]
  },
  {
   "cell_type": "markdown",
   "id": "2abcd0ab",
   "metadata": {},
   "source": [
    "Hacemos el histograma. "
   ]
  },
  {
   "cell_type": "code",
   "execution_count": 78,
   "id": "c1b0dc1b",
   "metadata": {},
   "outputs": [
    {
     "data": {
      "application/vnd.plotly.v1+json": {
       "config": {
        "plotlyServerURL": "https://plot.ly"
       },
       "data": [
        {
         "alignmentgroup": "True",
         "bingroup": "x",
         "histfunc": "sum",
         "hovertemplate": "variable=percent<br>index=%{x}<br>sum of value=%{y}<extra></extra>",
         "legendgroup": "percent",
         "marker": {
          "color": "#636efa",
          "pattern": {
           "shape": ""
          }
         },
         "name": "percent",
         "offsetgroup": "percent",
         "orientation": "v",
         "showlegend": true,
         "type": "histogram",
         "x": [
          "Fully Paid",
          "Charged Off"
         ],
         "xaxis": "x",
         "y": [
          78.0717947790956,
          21.928205220904406
         ],
         "yaxis": "y"
        }
       ],
       "layout": {
        "barmode": "relative",
        "legend": {
         "title": {
          "text": "variable"
         },
         "tracegroupgap": 0
        },
        "margin": {
         "t": 60
        },
        "template": {
         "data": {
          "bar": [
           {
            "error_x": {
             "color": "#2a3f5f"
            },
            "error_y": {
             "color": "#2a3f5f"
            },
            "marker": {
             "line": {
              "color": "#E5ECF6",
              "width": 0.5
             },
             "pattern": {
              "fillmode": "overlay",
              "size": 10,
              "solidity": 0.2
             }
            },
            "type": "bar"
           }
          ],
          "barpolar": [
           {
            "marker": {
             "line": {
              "color": "#E5ECF6",
              "width": 0.5
             },
             "pattern": {
              "fillmode": "overlay",
              "size": 10,
              "solidity": 0.2
             }
            },
            "type": "barpolar"
           }
          ],
          "carpet": [
           {
            "aaxis": {
             "endlinecolor": "#2a3f5f",
             "gridcolor": "white",
             "linecolor": "white",
             "minorgridcolor": "white",
             "startlinecolor": "#2a3f5f"
            },
            "baxis": {
             "endlinecolor": "#2a3f5f",
             "gridcolor": "white",
             "linecolor": "white",
             "minorgridcolor": "white",
             "startlinecolor": "#2a3f5f"
            },
            "type": "carpet"
           }
          ],
          "choropleth": [
           {
            "colorbar": {
             "outlinewidth": 0,
             "ticks": ""
            },
            "type": "choropleth"
           }
          ],
          "contour": [
           {
            "colorbar": {
             "outlinewidth": 0,
             "ticks": ""
            },
            "colorscale": [
             [
              0,
              "#0d0887"
             ],
             [
              0.1111111111111111,
              "#46039f"
             ],
             [
              0.2222222222222222,
              "#7201a8"
             ],
             [
              0.3333333333333333,
              "#9c179e"
             ],
             [
              0.4444444444444444,
              "#bd3786"
             ],
             [
              0.5555555555555556,
              "#d8576b"
             ],
             [
              0.6666666666666666,
              "#ed7953"
             ],
             [
              0.7777777777777778,
              "#fb9f3a"
             ],
             [
              0.8888888888888888,
              "#fdca26"
             ],
             [
              1,
              "#f0f921"
             ]
            ],
            "type": "contour"
           }
          ],
          "contourcarpet": [
           {
            "colorbar": {
             "outlinewidth": 0,
             "ticks": ""
            },
            "type": "contourcarpet"
           }
          ],
          "heatmap": [
           {
            "colorbar": {
             "outlinewidth": 0,
             "ticks": ""
            },
            "colorscale": [
             [
              0,
              "#0d0887"
             ],
             [
              0.1111111111111111,
              "#46039f"
             ],
             [
              0.2222222222222222,
              "#7201a8"
             ],
             [
              0.3333333333333333,
              "#9c179e"
             ],
             [
              0.4444444444444444,
              "#bd3786"
             ],
             [
              0.5555555555555556,
              "#d8576b"
             ],
             [
              0.6666666666666666,
              "#ed7953"
             ],
             [
              0.7777777777777778,
              "#fb9f3a"
             ],
             [
              0.8888888888888888,
              "#fdca26"
             ],
             [
              1,
              "#f0f921"
             ]
            ],
            "type": "heatmap"
           }
          ],
          "heatmapgl": [
           {
            "colorbar": {
             "outlinewidth": 0,
             "ticks": ""
            },
            "colorscale": [
             [
              0,
              "#0d0887"
             ],
             [
              0.1111111111111111,
              "#46039f"
             ],
             [
              0.2222222222222222,
              "#7201a8"
             ],
             [
              0.3333333333333333,
              "#9c179e"
             ],
             [
              0.4444444444444444,
              "#bd3786"
             ],
             [
              0.5555555555555556,
              "#d8576b"
             ],
             [
              0.6666666666666666,
              "#ed7953"
             ],
             [
              0.7777777777777778,
              "#fb9f3a"
             ],
             [
              0.8888888888888888,
              "#fdca26"
             ],
             [
              1,
              "#f0f921"
             ]
            ],
            "type": "heatmapgl"
           }
          ],
          "histogram": [
           {
            "marker": {
             "pattern": {
              "fillmode": "overlay",
              "size": 10,
              "solidity": 0.2
             }
            },
            "type": "histogram"
           }
          ],
          "histogram2d": [
           {
            "colorbar": {
             "outlinewidth": 0,
             "ticks": ""
            },
            "colorscale": [
             [
              0,
              "#0d0887"
             ],
             [
              0.1111111111111111,
              "#46039f"
             ],
             [
              0.2222222222222222,
              "#7201a8"
             ],
             [
              0.3333333333333333,
              "#9c179e"
             ],
             [
              0.4444444444444444,
              "#bd3786"
             ],
             [
              0.5555555555555556,
              "#d8576b"
             ],
             [
              0.6666666666666666,
              "#ed7953"
             ],
             [
              0.7777777777777778,
              "#fb9f3a"
             ],
             [
              0.8888888888888888,
              "#fdca26"
             ],
             [
              1,
              "#f0f921"
             ]
            ],
            "type": "histogram2d"
           }
          ],
          "histogram2dcontour": [
           {
            "colorbar": {
             "outlinewidth": 0,
             "ticks": ""
            },
            "colorscale": [
             [
              0,
              "#0d0887"
             ],
             [
              0.1111111111111111,
              "#46039f"
             ],
             [
              0.2222222222222222,
              "#7201a8"
             ],
             [
              0.3333333333333333,
              "#9c179e"
             ],
             [
              0.4444444444444444,
              "#bd3786"
             ],
             [
              0.5555555555555556,
              "#d8576b"
             ],
             [
              0.6666666666666666,
              "#ed7953"
             ],
             [
              0.7777777777777778,
              "#fb9f3a"
             ],
             [
              0.8888888888888888,
              "#fdca26"
             ],
             [
              1,
              "#f0f921"
             ]
            ],
            "type": "histogram2dcontour"
           }
          ],
          "mesh3d": [
           {
            "colorbar": {
             "outlinewidth": 0,
             "ticks": ""
            },
            "type": "mesh3d"
           }
          ],
          "parcoords": [
           {
            "line": {
             "colorbar": {
              "outlinewidth": 0,
              "ticks": ""
             }
            },
            "type": "parcoords"
           }
          ],
          "pie": [
           {
            "automargin": true,
            "type": "pie"
           }
          ],
          "scatter": [
           {
            "marker": {
             "colorbar": {
              "outlinewidth": 0,
              "ticks": ""
             }
            },
            "type": "scatter"
           }
          ],
          "scatter3d": [
           {
            "line": {
             "colorbar": {
              "outlinewidth": 0,
              "ticks": ""
             }
            },
            "marker": {
             "colorbar": {
              "outlinewidth": 0,
              "ticks": ""
             }
            },
            "type": "scatter3d"
           }
          ],
          "scattercarpet": [
           {
            "marker": {
             "colorbar": {
              "outlinewidth": 0,
              "ticks": ""
             }
            },
            "type": "scattercarpet"
           }
          ],
          "scattergeo": [
           {
            "marker": {
             "colorbar": {
              "outlinewidth": 0,
              "ticks": ""
             }
            },
            "type": "scattergeo"
           }
          ],
          "scattergl": [
           {
            "marker": {
             "colorbar": {
              "outlinewidth": 0,
              "ticks": ""
             }
            },
            "type": "scattergl"
           }
          ],
          "scattermapbox": [
           {
            "marker": {
             "colorbar": {
              "outlinewidth": 0,
              "ticks": ""
             }
            },
            "type": "scattermapbox"
           }
          ],
          "scatterpolar": [
           {
            "marker": {
             "colorbar": {
              "outlinewidth": 0,
              "ticks": ""
             }
            },
            "type": "scatterpolar"
           }
          ],
          "scatterpolargl": [
           {
            "marker": {
             "colorbar": {
              "outlinewidth": 0,
              "ticks": ""
             }
            },
            "type": "scatterpolargl"
           }
          ],
          "scatterternary": [
           {
            "marker": {
             "colorbar": {
              "outlinewidth": 0,
              "ticks": ""
             }
            },
            "type": "scatterternary"
           }
          ],
          "surface": [
           {
            "colorbar": {
             "outlinewidth": 0,
             "ticks": ""
            },
            "colorscale": [
             [
              0,
              "#0d0887"
             ],
             [
              0.1111111111111111,
              "#46039f"
             ],
             [
              0.2222222222222222,
              "#7201a8"
             ],
             [
              0.3333333333333333,
              "#9c179e"
             ],
             [
              0.4444444444444444,
              "#bd3786"
             ],
             [
              0.5555555555555556,
              "#d8576b"
             ],
             [
              0.6666666666666666,
              "#ed7953"
             ],
             [
              0.7777777777777778,
              "#fb9f3a"
             ],
             [
              0.8888888888888888,
              "#fdca26"
             ],
             [
              1,
              "#f0f921"
             ]
            ],
            "type": "surface"
           }
          ],
          "table": [
           {
            "cells": {
             "fill": {
              "color": "#EBF0F8"
             },
             "line": {
              "color": "white"
             }
            },
            "header": {
             "fill": {
              "color": "#C8D4E3"
             },
             "line": {
              "color": "white"
             }
            },
            "type": "table"
           }
          ]
         },
         "layout": {
          "annotationdefaults": {
           "arrowcolor": "#2a3f5f",
           "arrowhead": 0,
           "arrowwidth": 1
          },
          "autotypenumbers": "strict",
          "coloraxis": {
           "colorbar": {
            "outlinewidth": 0,
            "ticks": ""
           }
          },
          "colorscale": {
           "diverging": [
            [
             0,
             "#8e0152"
            ],
            [
             0.1,
             "#c51b7d"
            ],
            [
             0.2,
             "#de77ae"
            ],
            [
             0.3,
             "#f1b6da"
            ],
            [
             0.4,
             "#fde0ef"
            ],
            [
             0.5,
             "#f7f7f7"
            ],
            [
             0.6,
             "#e6f5d0"
            ],
            [
             0.7,
             "#b8e186"
            ],
            [
             0.8,
             "#7fbc41"
            ],
            [
             0.9,
             "#4d9221"
            ],
            [
             1,
             "#276419"
            ]
           ],
           "sequential": [
            [
             0,
             "#0d0887"
            ],
            [
             0.1111111111111111,
             "#46039f"
            ],
            [
             0.2222222222222222,
             "#7201a8"
            ],
            [
             0.3333333333333333,
             "#9c179e"
            ],
            [
             0.4444444444444444,
             "#bd3786"
            ],
            [
             0.5555555555555556,
             "#d8576b"
            ],
            [
             0.6666666666666666,
             "#ed7953"
            ],
            [
             0.7777777777777778,
             "#fb9f3a"
            ],
            [
             0.8888888888888888,
             "#fdca26"
            ],
            [
             1,
             "#f0f921"
            ]
           ],
           "sequentialminus": [
            [
             0,
             "#0d0887"
            ],
            [
             0.1111111111111111,
             "#46039f"
            ],
            [
             0.2222222222222222,
             "#7201a8"
            ],
            [
             0.3333333333333333,
             "#9c179e"
            ],
            [
             0.4444444444444444,
             "#bd3786"
            ],
            [
             0.5555555555555556,
             "#d8576b"
            ],
            [
             0.6666666666666666,
             "#ed7953"
            ],
            [
             0.7777777777777778,
             "#fb9f3a"
            ],
            [
             0.8888888888888888,
             "#fdca26"
            ],
            [
             1,
             "#f0f921"
            ]
           ]
          },
          "colorway": [
           "#636efa",
           "#EF553B",
           "#00cc96",
           "#ab63fa",
           "#FFA15A",
           "#19d3f3",
           "#FF6692",
           "#B6E880",
           "#FF97FF",
           "#FECB52"
          ],
          "font": {
           "color": "#2a3f5f"
          },
          "geo": {
           "bgcolor": "white",
           "lakecolor": "white",
           "landcolor": "#E5ECF6",
           "showlakes": true,
           "showland": true,
           "subunitcolor": "white"
          },
          "hoverlabel": {
           "align": "left"
          },
          "hovermode": "closest",
          "mapbox": {
           "style": "light"
          },
          "paper_bgcolor": "white",
          "plot_bgcolor": "#E5ECF6",
          "polar": {
           "angularaxis": {
            "gridcolor": "white",
            "linecolor": "white",
            "ticks": ""
           },
           "bgcolor": "#E5ECF6",
           "radialaxis": {
            "gridcolor": "white",
            "linecolor": "white",
            "ticks": ""
           }
          },
          "scene": {
           "xaxis": {
            "backgroundcolor": "#E5ECF6",
            "gridcolor": "white",
            "gridwidth": 2,
            "linecolor": "white",
            "showbackground": true,
            "ticks": "",
            "zerolinecolor": "white"
           },
           "yaxis": {
            "backgroundcolor": "#E5ECF6",
            "gridcolor": "white",
            "gridwidth": 2,
            "linecolor": "white",
            "showbackground": true,
            "ticks": "",
            "zerolinecolor": "white"
           },
           "zaxis": {
            "backgroundcolor": "#E5ECF6",
            "gridcolor": "white",
            "gridwidth": 2,
            "linecolor": "white",
            "showbackground": true,
            "ticks": "",
            "zerolinecolor": "white"
           }
          },
          "shapedefaults": {
           "line": {
            "color": "#2a3f5f"
           }
          },
          "ternary": {
           "aaxis": {
            "gridcolor": "white",
            "linecolor": "white",
            "ticks": ""
           },
           "baxis": {
            "gridcolor": "white",
            "linecolor": "white",
            "ticks": ""
           },
           "bgcolor": "#E5ECF6",
           "caxis": {
            "gridcolor": "white",
            "linecolor": "white",
            "ticks": ""
           }
          },
          "title": {
           "x": 0.05
          },
          "xaxis": {
           "automargin": true,
           "gridcolor": "white",
           "linecolor": "white",
           "ticks": "",
           "title": {
            "standoff": 15
           },
           "zerolinecolor": "white",
           "zerolinewidth": 2
          },
          "yaxis": {
           "automargin": true,
           "gridcolor": "white",
           "linecolor": "white",
           "ticks": "",
           "title": {
            "standoff": 15
           },
           "zerolinecolor": "white",
           "zerolinewidth": 2
          }
         }
        },
        "xaxis": {
         "anchor": "y",
         "domain": [
          0,
          1
         ],
         "title": {
          "text": "index"
         }
        },
        "yaxis": {
         "anchor": "x",
         "domain": [
          0,
          1
         ],
         "title": {
          "text": "sum of value"
         }
        }
       }
      },
      "text/html": [
       "<div>                            <div id=\"9cf6c225-0532-4c0a-ad8c-e3e08faee6b1\" class=\"plotly-graph-div\" style=\"height:525px; width:100%;\"></div>            <script type=\"text/javascript\">                require([\"plotly\"], function(Plotly) {                    window.PLOTLYENV=window.PLOTLYENV || {};                                    if (document.getElementById(\"9cf6c225-0532-4c0a-ad8c-e3e08faee6b1\")) {                    Plotly.newPlot(                        \"9cf6c225-0532-4c0a-ad8c-e3e08faee6b1\",                        [{\"alignmentgroup\":\"True\",\"bingroup\":\"x\",\"histfunc\":\"sum\",\"hovertemplate\":\"variable=percent<br>index=%{x}<br>sum of value=%{y}<extra></extra>\",\"legendgroup\":\"percent\",\"marker\":{\"color\":\"#636efa\",\"pattern\":{\"shape\":\"\"}},\"name\":\"percent\",\"offsetgroup\":\"percent\",\"orientation\":\"v\",\"showlegend\":true,\"x\":[\"Fully Paid\",\"Charged Off\"],\"xaxis\":\"x\",\"y\":[78.0717947790956,21.928205220904406],\"yaxis\":\"y\",\"type\":\"histogram\"}],                        {\"template\":{\"data\":{\"bar\":[{\"error_x\":{\"color\":\"#2a3f5f\"},\"error_y\":{\"color\":\"#2a3f5f\"},\"marker\":{\"line\":{\"color\":\"#E5ECF6\",\"width\":0.5},\"pattern\":{\"fillmode\":\"overlay\",\"size\":10,\"solidity\":0.2}},\"type\":\"bar\"}],\"barpolar\":[{\"marker\":{\"line\":{\"color\":\"#E5ECF6\",\"width\":0.5},\"pattern\":{\"fillmode\":\"overlay\",\"size\":10,\"solidity\":0.2}},\"type\":\"barpolar\"}],\"carpet\":[{\"aaxis\":{\"endlinecolor\":\"#2a3f5f\",\"gridcolor\":\"white\",\"linecolor\":\"white\",\"minorgridcolor\":\"white\",\"startlinecolor\":\"#2a3f5f\"},\"baxis\":{\"endlinecolor\":\"#2a3f5f\",\"gridcolor\":\"white\",\"linecolor\":\"white\",\"minorgridcolor\":\"white\",\"startlinecolor\":\"#2a3f5f\"},\"type\":\"carpet\"}],\"choropleth\":[{\"colorbar\":{\"outlinewidth\":0,\"ticks\":\"\"},\"type\":\"choropleth\"}],\"contour\":[{\"colorbar\":{\"outlinewidth\":0,\"ticks\":\"\"},\"colorscale\":[[0.0,\"#0d0887\"],[0.1111111111111111,\"#46039f\"],[0.2222222222222222,\"#7201a8\"],[0.3333333333333333,\"#9c179e\"],[0.4444444444444444,\"#bd3786\"],[0.5555555555555556,\"#d8576b\"],[0.6666666666666666,\"#ed7953\"],[0.7777777777777778,\"#fb9f3a\"],[0.8888888888888888,\"#fdca26\"],[1.0,\"#f0f921\"]],\"type\":\"contour\"}],\"contourcarpet\":[{\"colorbar\":{\"outlinewidth\":0,\"ticks\":\"\"},\"type\":\"contourcarpet\"}],\"heatmap\":[{\"colorbar\":{\"outlinewidth\":0,\"ticks\":\"\"},\"colorscale\":[[0.0,\"#0d0887\"],[0.1111111111111111,\"#46039f\"],[0.2222222222222222,\"#7201a8\"],[0.3333333333333333,\"#9c179e\"],[0.4444444444444444,\"#bd3786\"],[0.5555555555555556,\"#d8576b\"],[0.6666666666666666,\"#ed7953\"],[0.7777777777777778,\"#fb9f3a\"],[0.8888888888888888,\"#fdca26\"],[1.0,\"#f0f921\"]],\"type\":\"heatmap\"}],\"heatmapgl\":[{\"colorbar\":{\"outlinewidth\":0,\"ticks\":\"\"},\"colorscale\":[[0.0,\"#0d0887\"],[0.1111111111111111,\"#46039f\"],[0.2222222222222222,\"#7201a8\"],[0.3333333333333333,\"#9c179e\"],[0.4444444444444444,\"#bd3786\"],[0.5555555555555556,\"#d8576b\"],[0.6666666666666666,\"#ed7953\"],[0.7777777777777778,\"#fb9f3a\"],[0.8888888888888888,\"#fdca26\"],[1.0,\"#f0f921\"]],\"type\":\"heatmapgl\"}],\"histogram\":[{\"marker\":{\"pattern\":{\"fillmode\":\"overlay\",\"size\":10,\"solidity\":0.2}},\"type\":\"histogram\"}],\"histogram2d\":[{\"colorbar\":{\"outlinewidth\":0,\"ticks\":\"\"},\"colorscale\":[[0.0,\"#0d0887\"],[0.1111111111111111,\"#46039f\"],[0.2222222222222222,\"#7201a8\"],[0.3333333333333333,\"#9c179e\"],[0.4444444444444444,\"#bd3786\"],[0.5555555555555556,\"#d8576b\"],[0.6666666666666666,\"#ed7953\"],[0.7777777777777778,\"#fb9f3a\"],[0.8888888888888888,\"#fdca26\"],[1.0,\"#f0f921\"]],\"type\":\"histogram2d\"}],\"histogram2dcontour\":[{\"colorbar\":{\"outlinewidth\":0,\"ticks\":\"\"},\"colorscale\":[[0.0,\"#0d0887\"],[0.1111111111111111,\"#46039f\"],[0.2222222222222222,\"#7201a8\"],[0.3333333333333333,\"#9c179e\"],[0.4444444444444444,\"#bd3786\"],[0.5555555555555556,\"#d8576b\"],[0.6666666666666666,\"#ed7953\"],[0.7777777777777778,\"#fb9f3a\"],[0.8888888888888888,\"#fdca26\"],[1.0,\"#f0f921\"]],\"type\":\"histogram2dcontour\"}],\"mesh3d\":[{\"colorbar\":{\"outlinewidth\":0,\"ticks\":\"\"},\"type\":\"mesh3d\"}],\"parcoords\":[{\"line\":{\"colorbar\":{\"outlinewidth\":0,\"ticks\":\"\"}},\"type\":\"parcoords\"}],\"pie\":[{\"automargin\":true,\"type\":\"pie\"}],\"scatter\":[{\"marker\":{\"colorbar\":{\"outlinewidth\":0,\"ticks\":\"\"}},\"type\":\"scatter\"}],\"scatter3d\":[{\"line\":{\"colorbar\":{\"outlinewidth\":0,\"ticks\":\"\"}},\"marker\":{\"colorbar\":{\"outlinewidth\":0,\"ticks\":\"\"}},\"type\":\"scatter3d\"}],\"scattercarpet\":[{\"marker\":{\"colorbar\":{\"outlinewidth\":0,\"ticks\":\"\"}},\"type\":\"scattercarpet\"}],\"scattergeo\":[{\"marker\":{\"colorbar\":{\"outlinewidth\":0,\"ticks\":\"\"}},\"type\":\"scattergeo\"}],\"scattergl\":[{\"marker\":{\"colorbar\":{\"outlinewidth\":0,\"ticks\":\"\"}},\"type\":\"scattergl\"}],\"scattermapbox\":[{\"marker\":{\"colorbar\":{\"outlinewidth\":0,\"ticks\":\"\"}},\"type\":\"scattermapbox\"}],\"scatterpolar\":[{\"marker\":{\"colorbar\":{\"outlinewidth\":0,\"ticks\":\"\"}},\"type\":\"scatterpolar\"}],\"scatterpolargl\":[{\"marker\":{\"colorbar\":{\"outlinewidth\":0,\"ticks\":\"\"}},\"type\":\"scatterpolargl\"}],\"scatterternary\":[{\"marker\":{\"colorbar\":{\"outlinewidth\":0,\"ticks\":\"\"}},\"type\":\"scatterternary\"}],\"surface\":[{\"colorbar\":{\"outlinewidth\":0,\"ticks\":\"\"},\"colorscale\":[[0.0,\"#0d0887\"],[0.1111111111111111,\"#46039f\"],[0.2222222222222222,\"#7201a8\"],[0.3333333333333333,\"#9c179e\"],[0.4444444444444444,\"#bd3786\"],[0.5555555555555556,\"#d8576b\"],[0.6666666666666666,\"#ed7953\"],[0.7777777777777778,\"#fb9f3a\"],[0.8888888888888888,\"#fdca26\"],[1.0,\"#f0f921\"]],\"type\":\"surface\"}],\"table\":[{\"cells\":{\"fill\":{\"color\":\"#EBF0F8\"},\"line\":{\"color\":\"white\"}},\"header\":{\"fill\":{\"color\":\"#C8D4E3\"},\"line\":{\"color\":\"white\"}},\"type\":\"table\"}]},\"layout\":{\"annotationdefaults\":{\"arrowcolor\":\"#2a3f5f\",\"arrowhead\":0,\"arrowwidth\":1},\"autotypenumbers\":\"strict\",\"coloraxis\":{\"colorbar\":{\"outlinewidth\":0,\"ticks\":\"\"}},\"colorscale\":{\"diverging\":[[0,\"#8e0152\"],[0.1,\"#c51b7d\"],[0.2,\"#de77ae\"],[0.3,\"#f1b6da\"],[0.4,\"#fde0ef\"],[0.5,\"#f7f7f7\"],[0.6,\"#e6f5d0\"],[0.7,\"#b8e186\"],[0.8,\"#7fbc41\"],[0.9,\"#4d9221\"],[1,\"#276419\"]],\"sequential\":[[0.0,\"#0d0887\"],[0.1111111111111111,\"#46039f\"],[0.2222222222222222,\"#7201a8\"],[0.3333333333333333,\"#9c179e\"],[0.4444444444444444,\"#bd3786\"],[0.5555555555555556,\"#d8576b\"],[0.6666666666666666,\"#ed7953\"],[0.7777777777777778,\"#fb9f3a\"],[0.8888888888888888,\"#fdca26\"],[1.0,\"#f0f921\"]],\"sequentialminus\":[[0.0,\"#0d0887\"],[0.1111111111111111,\"#46039f\"],[0.2222222222222222,\"#7201a8\"],[0.3333333333333333,\"#9c179e\"],[0.4444444444444444,\"#bd3786\"],[0.5555555555555556,\"#d8576b\"],[0.6666666666666666,\"#ed7953\"],[0.7777777777777778,\"#fb9f3a\"],[0.8888888888888888,\"#fdca26\"],[1.0,\"#f0f921\"]]},\"colorway\":[\"#636efa\",\"#EF553B\",\"#00cc96\",\"#ab63fa\",\"#FFA15A\",\"#19d3f3\",\"#FF6692\",\"#B6E880\",\"#FF97FF\",\"#FECB52\"],\"font\":{\"color\":\"#2a3f5f\"},\"geo\":{\"bgcolor\":\"white\",\"lakecolor\":\"white\",\"landcolor\":\"#E5ECF6\",\"showlakes\":true,\"showland\":true,\"subunitcolor\":\"white\"},\"hoverlabel\":{\"align\":\"left\"},\"hovermode\":\"closest\",\"mapbox\":{\"style\":\"light\"},\"paper_bgcolor\":\"white\",\"plot_bgcolor\":\"#E5ECF6\",\"polar\":{\"angularaxis\":{\"gridcolor\":\"white\",\"linecolor\":\"white\",\"ticks\":\"\"},\"bgcolor\":\"#E5ECF6\",\"radialaxis\":{\"gridcolor\":\"white\",\"linecolor\":\"white\",\"ticks\":\"\"}},\"scene\":{\"xaxis\":{\"backgroundcolor\":\"#E5ECF6\",\"gridcolor\":\"white\",\"gridwidth\":2,\"linecolor\":\"white\",\"showbackground\":true,\"ticks\":\"\",\"zerolinecolor\":\"white\"},\"yaxis\":{\"backgroundcolor\":\"#E5ECF6\",\"gridcolor\":\"white\",\"gridwidth\":2,\"linecolor\":\"white\",\"showbackground\":true,\"ticks\":\"\",\"zerolinecolor\":\"white\"},\"zaxis\":{\"backgroundcolor\":\"#E5ECF6\",\"gridcolor\":\"white\",\"gridwidth\":2,\"linecolor\":\"white\",\"showbackground\":true,\"ticks\":\"\",\"zerolinecolor\":\"white\"}},\"shapedefaults\":{\"line\":{\"color\":\"#2a3f5f\"}},\"ternary\":{\"aaxis\":{\"gridcolor\":\"white\",\"linecolor\":\"white\",\"ticks\":\"\"},\"baxis\":{\"gridcolor\":\"white\",\"linecolor\":\"white\",\"ticks\":\"\"},\"bgcolor\":\"#E5ECF6\",\"caxis\":{\"gridcolor\":\"white\",\"linecolor\":\"white\",\"ticks\":\"\"}},\"title\":{\"x\":0.05},\"xaxis\":{\"automargin\":true,\"gridcolor\":\"white\",\"linecolor\":\"white\",\"ticks\":\"\",\"title\":{\"standoff\":15},\"zerolinecolor\":\"white\",\"zerolinewidth\":2},\"yaxis\":{\"automargin\":true,\"gridcolor\":\"white\",\"linecolor\":\"white\",\"ticks\":\"\",\"title\":{\"standoff\":15},\"zerolinecolor\":\"white\",\"zerolinewidth\":2}}},\"xaxis\":{\"anchor\":\"y\",\"domain\":[0.0,1.0],\"title\":{\"text\":\"index\"}},\"yaxis\":{\"anchor\":\"x\",\"domain\":[0.0,1.0],\"title\":{\"text\":\"sum of value\"}},\"legend\":{\"title\":{\"text\":\"variable\"},\"tracegroupgap\":0},\"margin\":{\"t\":60},\"barmode\":\"relative\"},                        {\"responsive\": true}                    ).then(function(){\n",
       "                            \n",
       "var gd = document.getElementById('9cf6c225-0532-4c0a-ad8c-e3e08faee6b1');\n",
       "var x = new MutationObserver(function (mutations, observer) {{\n",
       "        var display = window.getComputedStyle(gd).display;\n",
       "        if (!display || display === 'none') {{\n",
       "            console.log([gd, 'removed!']);\n",
       "            Plotly.purge(gd);\n",
       "            observer.disconnect();\n",
       "        }}\n",
       "}});\n",
       "\n",
       "// Listen for the removal of the full notebook cells\n",
       "var notebookContainer = gd.closest('#notebook-container');\n",
       "if (notebookContainer) {{\n",
       "    x.observe(notebookContainer, {childList: true});\n",
       "}}\n",
       "\n",
       "// Listen for the clearing of the current output cell\n",
       "var outputEl = gd.closest('.output');\n",
       "if (outputEl) {{\n",
       "    x.observe(outputEl, {childList: true});\n",
       "}}\n",
       "\n",
       "                        })                };                });            </script>        </div>"
      ]
     },
     "metadata": {},
     "output_type": "display_data"
    }
   ],
   "source": [
    "fig = px.histogram(pd_plot_loan_status, x=\"index\", y=['percent'])\n",
    "fig.show()"
   ]
  },
  {
   "cell_type": "code",
   "execution_count": 79,
   "id": "94cd571f",
   "metadata": {},
   "outputs": [
    {
     "data": {
      "text/html": [
       "<div>\n",
       "<style scoped>\n",
       "    .dataframe tbody tr th:only-of-type {\n",
       "        vertical-align: middle;\n",
       "    }\n",
       "\n",
       "    .dataframe tbody tr th {\n",
       "        vertical-align: top;\n",
       "    }\n",
       "\n",
       "    .dataframe thead th {\n",
       "        text-align: right;\n",
       "    }\n",
       "</style>\n",
       "<table border=\"1\" class=\"dataframe\">\n",
       "  <thead>\n",
       "    <tr style=\"text-align: right;\">\n",
       "      <th></th>\n",
       "      <th>index</th>\n",
       "      <th>loan_status</th>\n",
       "    </tr>\n",
       "  </thead>\n",
       "  <tbody>\n",
       "    <tr>\n",
       "      <th>0</th>\n",
       "      <td>Fully Paid</td>\n",
       "      <td>345520</td>\n",
       "    </tr>\n",
       "    <tr>\n",
       "      <th>1</th>\n",
       "      <td>Charged Off</td>\n",
       "      <td>97047</td>\n",
       "    </tr>\n",
       "  </tbody>\n",
       "</table>\n",
       "</div>"
      ],
      "text/plain": [
       "         index  loan_status\n",
       "0   Fully Paid       345520\n",
       "1  Charged Off        97047"
      ]
     },
     "execution_count": 79,
     "metadata": {},
     "output_type": "execute_result"
    }
   ],
   "source": [
    "pd_plot_loan_status_count"
   ]
  },
  {
   "cell_type": "markdown",
   "id": "bf61d80e",
   "metadata": {},
   "source": [
    "Observamos hay una gran diferencia de tamaños, una forma de solventarlo dado que tenemos muchos datos es eliminar de forma aleatoria 345520-97047 datos de las personas que saldaron la deuda(undersampling)."
   ]
  },
  {
   "cell_type": "markdown",
   "id": "4095a2fd",
   "metadata": {},
   "source": [
    "Parece que están bastante desvalanceados haremos un valanceo en los puntos siguientes"
   ]
  },
  {
   "cell_type": "markdown",
   "id": "b425de9b",
   "metadata": {},
   "source": [
    "## D)Matriz de correlación en variables continuas."
   ]
  },
  {
   "cell_type": "markdown",
   "id": "97daf1ac",
   "metadata": {},
   "source": [
    "Para ello deberemos hacer uso de las funciones auxiliares que nos ayudarán a calcular la matriz de correlaciones de las variables continuas."
   ]
  },
  {
   "cell_type": "markdown",
   "id": "f622fea2",
   "metadata": {},
   "source": [
    "Importamos todos los datos con los posibles estados"
   ]
  },
  {
   "cell_type": "code",
   "execution_count": 80,
   "id": "a5dbefd6",
   "metadata": {
    "scrolled": true
   },
   "outputs": [
    {
     "data": {
      "image/png": "[encoded data removed]",
      "text/plain": [
       "<Figure size 720x576 with 2 Axes>"
      ]
     },
     "metadata": {},
     "output_type": "display_data"
    },
    {
     "data": {
      "text/plain": [
       "0"
      ]
     },
     "execution_count": 80,
     "metadata": {},
     "output_type": "execute_result"
    }
   ],
   "source": [
    "funciones_auxiliares.get_corr_matrix(dataset = pd_loan[list_var_continuous], \n",
    "                metodo='pearson', size_figure=[10,8])"
   ]
  },
  {
   "cell_type": "markdown",
   "id": "c4bc1c76",
   "metadata": {},
   "source": [
    "Eliminaremos variables que tienen alta correlación con otras que si dejaremos:"
   ]
  },
  {
   "cell_type": "code",
   "execution_count": 81,
   "id": "29acb805",
   "metadata": {},
   "outputs": [
    {
     "name": "stderr",
     "output_type": "stream",
     "text": [
      "C:\\Users\\lolo\\AppData\\Local\\Temp/ipykernel_10780/1557204909.py:1: FutureWarning:\n",
      "\n",
      "In a future version of pandas all arguments of DataFrame.drop except for the argument 'labels' will be keyword-only.\n",
      "\n"
     ]
    },
    {
     "data": {
      "text/html": [
       "<div>\n",
       "<style scoped>\n",
       "    .dataframe tbody tr th:only-of-type {\n",
       "        vertical-align: middle;\n",
       "    }\n",
       "\n",
       "    .dataframe tbody tr th {\n",
       "        vertical-align: top;\n",
       "    }\n",
       "\n",
       "    .dataframe thead th {\n",
       "        text-align: right;\n",
       "    }\n",
       "</style>\n",
       "<table border=\"1\" class=\"dataframe\">\n",
       "  <thead>\n",
       "    <tr style=\"text-align: right;\">\n",
       "      <th></th>\n",
       "      <th>mths_since_last_record</th>\n",
       "      <th>il_util</th>\n",
       "      <th>mths_since_recent_bc_dlq</th>\n",
       "      <th>mths_since_rcnt_il</th>\n",
       "      <th>all_util</th>\n",
       "      <th>inq_fi</th>\n",
       "      <th>max_bal_bc</th>\n",
       "      <th>total_cu_tl</th>\n",
       "      <th>open_acc_6m</th>\n",
       "      <th>open_act_il</th>\n",
       "      <th>...</th>\n",
       "      <th>addr_state</th>\n",
       "      <th>fico_range_high</th>\n",
       "      <th>initial_list_status</th>\n",
       "      <th>application_type</th>\n",
       "      <th>pub_rec</th>\n",
       "      <th>pub_rec_bankruptcies</th>\n",
       "      <th>loan_amnt</th>\n",
       "      <th>mort_acc</th>\n",
       "      <th>open_acc</th>\n",
       "      <th>earliest_cr_line_month</th>\n",
       "    </tr>\n",
       "  </thead>\n",
       "  <tbody>\n",
       "    <tr>\n",
       "      <th>8</th>\n",
       "      <td>84.0</td>\n",
       "      <td>63.0</td>\n",
       "      <td>NaN</td>\n",
       "      <td>27.0</td>\n",
       "      <td>36.0</td>\n",
       "      <td>1.0</td>\n",
       "      <td>1581.0</td>\n",
       "      <td>6.0</td>\n",
       "      <td>1.0</td>\n",
       "      <td>1.0</td>\n",
       "      <td>...</td>\n",
       "      <td>CA</td>\n",
       "      <td>724.0</td>\n",
       "      <td>w</td>\n",
       "      <td>Individual</td>\n",
       "      <td>1.0</td>\n",
       "      <td>1.0</td>\n",
       "      <td>11575.0</td>\n",
       "      <td>2.0</td>\n",
       "      <td>20.0</td>\n",
       "      <td>7.0</td>\n",
       "    </tr>\n",
       "    <tr>\n",
       "      <th>10</th>\n",
       "      <td>NaN</td>\n",
       "      <td>51.0</td>\n",
       "      <td>NaN</td>\n",
       "      <td>21.0</td>\n",
       "      <td>74.0</td>\n",
       "      <td>0.0</td>\n",
       "      <td>2779.0</td>\n",
       "      <td>0.0</td>\n",
       "      <td>0.0</td>\n",
       "      <td>1.0</td>\n",
       "      <td>...</td>\n",
       "      <td>WA</td>\n",
       "      <td>689.0</td>\n",
       "      <td>w</td>\n",
       "      <td>Individual</td>\n",
       "      <td>0.0</td>\n",
       "      <td>0.0</td>\n",
       "      <td>7200.0</td>\n",
       "      <td>0.0</td>\n",
       "      <td>4.0</td>\n",
       "      <td>1.0</td>\n",
       "    </tr>\n",
       "    <tr>\n",
       "      <th>24</th>\n",
       "      <td>NaN</td>\n",
       "      <td>70.0</td>\n",
       "      <td>NaN</td>\n",
       "      <td>7.0</td>\n",
       "      <td>39.0</td>\n",
       "      <td>6.0</td>\n",
       "      <td>5965.0</td>\n",
       "      <td>8.0</td>\n",
       "      <td>1.0</td>\n",
       "      <td>4.0</td>\n",
       "      <td>...</td>\n",
       "      <td>TX</td>\n",
       "      <td>714.0</td>\n",
       "      <td>w</td>\n",
       "      <td>Individual</td>\n",
       "      <td>0.0</td>\n",
       "      <td>0.0</td>\n",
       "      <td>7500.0</td>\n",
       "      <td>4.0</td>\n",
       "      <td>19.0</td>\n",
       "      <td>3.0</td>\n",
       "    </tr>\n",
       "    <tr>\n",
       "      <th>42</th>\n",
       "      <td>55.0</td>\n",
       "      <td>95.0</td>\n",
       "      <td>NaN</td>\n",
       "      <td>9.0</td>\n",
       "      <td>32.0</td>\n",
       "      <td>0.0</td>\n",
       "      <td>3898.0</td>\n",
       "      <td>0.0</td>\n",
       "      <td>1.0</td>\n",
       "      <td>1.0</td>\n",
       "      <td>...</td>\n",
       "      <td>CA</td>\n",
       "      <td>694.0</td>\n",
       "      <td>w</td>\n",
       "      <td>Individual</td>\n",
       "      <td>2.0</td>\n",
       "      <td>2.0</td>\n",
       "      <td>10000.0</td>\n",
       "      <td>0.0</td>\n",
       "      <td>15.0</td>\n",
       "      <td>8.0</td>\n",
       "    </tr>\n",
       "    <tr>\n",
       "      <th>91</th>\n",
       "      <td>NaN</td>\n",
       "      <td>82.0</td>\n",
       "      <td>NaN</td>\n",
       "      <td>7.0</td>\n",
       "      <td>83.0</td>\n",
       "      <td>3.0</td>\n",
       "      <td>2700.0</td>\n",
       "      <td>0.0</td>\n",
       "      <td>1.0</td>\n",
       "      <td>2.0</td>\n",
       "      <td>...</td>\n",
       "      <td>MA</td>\n",
       "      <td>689.0</td>\n",
       "      <td>w</td>\n",
       "      <td>Individual</td>\n",
       "      <td>0.0</td>\n",
       "      <td>0.0</td>\n",
       "      <td>14000.0</td>\n",
       "      <td>1.0</td>\n",
       "      <td>4.0</td>\n",
       "      <td>5.0</td>\n",
       "    </tr>\n",
       "    <tr>\n",
       "      <th>...</th>\n",
       "      <td>...</td>\n",
       "      <td>...</td>\n",
       "      <td>...</td>\n",
       "      <td>...</td>\n",
       "      <td>...</td>\n",
       "      <td>...</td>\n",
       "      <td>...</td>\n",
       "      <td>...</td>\n",
       "      <td>...</td>\n",
       "      <td>...</td>\n",
       "      <td>...</td>\n",
       "      <td>...</td>\n",
       "      <td>...</td>\n",
       "      <td>...</td>\n",
       "      <td>...</td>\n",
       "      <td>...</td>\n",
       "      <td>...</td>\n",
       "      <td>...</td>\n",
       "      <td>...</td>\n",
       "      <td>...</td>\n",
       "      <td>...</td>\n",
       "    </tr>\n",
       "    <tr>\n",
       "      <th>884875</th>\n",
       "      <td>NaN</td>\n",
       "      <td>NaN</td>\n",
       "      <td>NaN</td>\n",
       "      <td>NaN</td>\n",
       "      <td>NaN</td>\n",
       "      <td>NaN</td>\n",
       "      <td>NaN</td>\n",
       "      <td>NaN</td>\n",
       "      <td>NaN</td>\n",
       "      <td>NaN</td>\n",
       "      <td>...</td>\n",
       "      <td>TX</td>\n",
       "      <td>684.0</td>\n",
       "      <td>f</td>\n",
       "      <td>Individual</td>\n",
       "      <td>0.0</td>\n",
       "      <td>0.0</td>\n",
       "      <td>11575.0</td>\n",
       "      <td>0.0</td>\n",
       "      <td>9.0</td>\n",
       "      <td>7.0</td>\n",
       "    </tr>\n",
       "    <tr>\n",
       "      <th>884876</th>\n",
       "      <td>NaN</td>\n",
       "      <td>NaN</td>\n",
       "      <td>NaN</td>\n",
       "      <td>NaN</td>\n",
       "      <td>NaN</td>\n",
       "      <td>NaN</td>\n",
       "      <td>NaN</td>\n",
       "      <td>NaN</td>\n",
       "      <td>NaN</td>\n",
       "      <td>NaN</td>\n",
       "      <td>...</td>\n",
       "      <td>OH</td>\n",
       "      <td>689.0</td>\n",
       "      <td>f</td>\n",
       "      <td>Individual</td>\n",
       "      <td>0.0</td>\n",
       "      <td>0.0</td>\n",
       "      <td>12000.0</td>\n",
       "      <td>1.0</td>\n",
       "      <td>13.0</td>\n",
       "      <td>6.0</td>\n",
       "    </tr>\n",
       "    <tr>\n",
       "      <th>884879</th>\n",
       "      <td>84.0</td>\n",
       "      <td>NaN</td>\n",
       "      <td>NaN</td>\n",
       "      <td>NaN</td>\n",
       "      <td>NaN</td>\n",
       "      <td>NaN</td>\n",
       "      <td>NaN</td>\n",
       "      <td>NaN</td>\n",
       "      <td>NaN</td>\n",
       "      <td>NaN</td>\n",
       "      <td>...</td>\n",
       "      <td>TN</td>\n",
       "      <td>684.0</td>\n",
       "      <td>w</td>\n",
       "      <td>Individual</td>\n",
       "      <td>1.0</td>\n",
       "      <td>1.0</td>\n",
       "      <td>13000.0</td>\n",
       "      <td>0.0</td>\n",
       "      <td>9.0</td>\n",
       "      <td>9.0</td>\n",
       "    </tr>\n",
       "    <tr>\n",
       "      <th>884880</th>\n",
       "      <td>NaN</td>\n",
       "      <td>NaN</td>\n",
       "      <td>NaN</td>\n",
       "      <td>NaN</td>\n",
       "      <td>NaN</td>\n",
       "      <td>NaN</td>\n",
       "      <td>NaN</td>\n",
       "      <td>NaN</td>\n",
       "      <td>NaN</td>\n",
       "      <td>NaN</td>\n",
       "      <td>...</td>\n",
       "      <td>MA</td>\n",
       "      <td>699.0</td>\n",
       "      <td>w</td>\n",
       "      <td>Individual</td>\n",
       "      <td>0.0</td>\n",
       "      <td>0.0</td>\n",
       "      <td>12000.0</td>\n",
       "      <td>0.0</td>\n",
       "      <td>17.0</td>\n",
       "      <td>10.0</td>\n",
       "    </tr>\n",
       "    <tr>\n",
       "      <th>884881</th>\n",
       "      <td>110.0</td>\n",
       "      <td>NaN</td>\n",
       "      <td>NaN</td>\n",
       "      <td>NaN</td>\n",
       "      <td>NaN</td>\n",
       "      <td>NaN</td>\n",
       "      <td>NaN</td>\n",
       "      <td>NaN</td>\n",
       "      <td>NaN</td>\n",
       "      <td>NaN</td>\n",
       "      <td>...</td>\n",
       "      <td>FL</td>\n",
       "      <td>679.0</td>\n",
       "      <td>f</td>\n",
       "      <td>Individual</td>\n",
       "      <td>1.0</td>\n",
       "      <td>0.0</td>\n",
       "      <td>20000.0</td>\n",
       "      <td>0.0</td>\n",
       "      <td>8.0</td>\n",
       "      <td>12.0</td>\n",
       "    </tr>\n",
       "  </tbody>\n",
       "</table>\n",
       "<p>442567 rows × 42 columns</p>\n",
       "</div>"
      ],
      "text/plain": [
       "        mths_since_last_record  il_util  mths_since_recent_bc_dlq  \\\n",
       "8                         84.0     63.0                       NaN   \n",
       "10                         NaN     51.0                       NaN   \n",
       "24                         NaN     70.0                       NaN   \n",
       "42                        55.0     95.0                       NaN   \n",
       "91                         NaN     82.0                       NaN   \n",
       "...                        ...      ...                       ...   \n",
       "884875                     NaN      NaN                       NaN   \n",
       "884876                     NaN      NaN                       NaN   \n",
       "884879                    84.0      NaN                       NaN   \n",
       "884880                     NaN      NaN                       NaN   \n",
       "884881                   110.0      NaN                       NaN   \n",
       "\n",
       "        mths_since_rcnt_il  all_util  inq_fi  max_bal_bc  total_cu_tl  \\\n",
       "8                     27.0      36.0     1.0      1581.0          6.0   \n",
       "10                    21.0      74.0     0.0      2779.0          0.0   \n",
       "24                     7.0      39.0     6.0      5965.0          8.0   \n",
       "42                     9.0      32.0     0.0      3898.0          0.0   \n",
       "91                     7.0      83.0     3.0      2700.0          0.0   \n",
       "...                    ...       ...     ...         ...          ...   \n",
       "884875                 NaN       NaN     NaN         NaN          NaN   \n",
       "884876                 NaN       NaN     NaN         NaN          NaN   \n",
       "884879                 NaN       NaN     NaN         NaN          NaN   \n",
       "884880                 NaN       NaN     NaN         NaN          NaN   \n",
       "884881                 NaN       NaN     NaN         NaN          NaN   \n",
       "\n",
       "        open_acc_6m  open_act_il  ...  addr_state  fico_range_high  \\\n",
       "8               1.0          1.0  ...          CA            724.0   \n",
       "10              0.0          1.0  ...          WA            689.0   \n",
       "24              1.0          4.0  ...          TX            714.0   \n",
       "42              1.0          1.0  ...          CA            694.0   \n",
       "91              1.0          2.0  ...          MA            689.0   \n",
       "...             ...          ...  ...         ...              ...   \n",
       "884875          NaN          NaN  ...          TX            684.0   \n",
       "884876          NaN          NaN  ...          OH            689.0   \n",
       "884879          NaN          NaN  ...          TN            684.0   \n",
       "884880          NaN          NaN  ...          MA            699.0   \n",
       "884881          NaN          NaN  ...          FL            679.0   \n",
       "\n",
       "        initial_list_status  application_type  pub_rec  pub_rec_bankruptcies  \\\n",
       "8                         w        Individual      1.0                   1.0   \n",
       "10                        w        Individual      0.0                   0.0   \n",
       "24                        w        Individual      0.0                   0.0   \n",
       "42                        w        Individual      2.0                   2.0   \n",
       "91                        w        Individual      0.0                   0.0   \n",
       "...                     ...               ...      ...                   ...   \n",
       "884875                    f        Individual      0.0                   0.0   \n",
       "884876                    f        Individual      0.0                   0.0   \n",
       "884879                    w        Individual      1.0                   1.0   \n",
       "884880                    w        Individual      0.0                   0.0   \n",
       "884881                    f        Individual      1.0                   0.0   \n",
       "\n",
       "        loan_amnt  mort_acc  open_acc  earliest_cr_line_month  \n",
       "8         11575.0       2.0      20.0                     7.0  \n",
       "10         7200.0       0.0       4.0                     1.0  \n",
       "24         7500.0       4.0      19.0                     3.0  \n",
       "42        10000.0       0.0      15.0                     8.0  \n",
       "91        14000.0       1.0       4.0                     5.0  \n",
       "...           ...       ...       ...                     ...  \n",
       "884875    11575.0       0.0       9.0                     7.0  \n",
       "884876    12000.0       1.0      13.0                     6.0  \n",
       "884879    13000.0       0.0       9.0                     9.0  \n",
       "884880    12000.0       0.0      17.0                    10.0  \n",
       "884881    20000.0       0.0       8.0                    12.0  \n",
       "\n",
       "[442567 rows x 42 columns]"
      ]
     },
     "execution_count": 81,
     "metadata": {},
     "output_type": "execute_result"
    }
   ],
   "source": [
    "pd_loan.drop(['mo_sin_old_rev_tl_op','fico_range_low','open_rv_12m','open_il_12m','earliest_cr_line_year'],1)"
   ]
  },
  {
   "cell_type": "markdown",
   "id": "1f0201bf",
   "metadata": {},
   "source": [
    "# 2. Valores missing"
   ]
  },
  {
   "cell_type": "markdown",
   "id": "8185c085",
   "metadata": {},
   "source": [
    "comprobamos los valores missing que tienen las variables categoricas"
   ]
  },
  {
   "cell_type": "code",
   "execution_count": 82,
   "id": "bf35e17c",
   "metadata": {},
   "outputs": [
    {
     "data": {
      "text/plain": [
       "verification_status    0.0\n",
       "home_ownership         0.0\n",
       "grade                  0.0\n",
       "loan_status            0.0\n",
       "purpose                0.0\n",
       "addr_state             0.0\n",
       "initial_list_status    0.0\n",
       "application_type       0.0\n",
       "dtype: float64"
      ]
     },
     "execution_count": 82,
     "metadata": {},
     "output_type": "execute_result"
    }
   ],
   "source": [
    "missing[list_var_discrets]"
   ]
  },
  {
   "cell_type": "markdown",
   "id": "34982956",
   "metadata": {},
   "source": [
    "Como no tienen, los dejamos como están, hacemos lo mismo con las variables continuas y las enteras"
   ]
  },
  {
   "cell_type": "code",
   "execution_count": 83,
   "id": "62315ace",
   "metadata": {
    "scrolled": true
   },
   "outputs": [
    {
     "data": {
      "text/plain": [
       "mths_since_last_record            0.812372\n",
       "il_util                           0.951273\n",
       "mths_since_recent_bc_dlq          0.738062\n",
       "mths_since_rcnt_il                0.945267\n",
       "all_util                          0.944006\n",
       "inq_fi                            0.943999\n",
       "max_bal_bc                        0.943999\n",
       "total_cu_tl                       0.943999\n",
       "open_acc_6m                       0.943999\n",
       "open_act_il                       0.943999\n",
       "open_il_12m                       0.943999\n",
       "total_bal_il                      0.943999\n",
       "open_rv_12m                       0.943999\n",
       "open_rv_24m                       0.943999\n",
       "open_il_24m                       0.943999\n",
       "inq_last_12m                      0.943999\n",
       "mths_since_last_major_derog       0.706553\n",
       "mths_since_recent_revol_delinq    0.640341\n",
       "mths_since_last_delinq            0.487339\n",
       "emp_length                        0.053944\n",
       "mo_sin_old_il_acct                0.028651\n",
       "sub_grade                         0.000000\n",
       "term                              0.000000\n",
       "total_acc                         0.000000\n",
       "fico_range_low                    0.000000\n",
       "fico_range_high                   0.000000\n",
       "pub_rec                           0.000000\n",
       "pub_rec_bankruptcies              0.000000\n",
       "loan_amnt                         0.000000\n",
       "mort_acc                          0.000000\n",
       "mo_sin_old_rev_tl_op              0.000000\n",
       "open_acc                          0.000000\n",
       "earliest_cr_line_month            0.000000\n",
       "earliest_cr_line_year             0.000000\n",
       "dtype: float64"
      ]
     },
     "execution_count": 83,
     "metadata": {},
     "output_type": "execute_result"
    }
   ],
   "source": [
    "missing[list_var_int]"
   ]
  },
  {
   "cell_type": "code",
   "execution_count": 84,
   "id": "9cf372c8",
   "metadata": {},
   "outputs": [
    {
     "data": {
      "text/plain": [
       "revol_util     0.000484\n",
       "dti            0.000041\n",
       "annual_inc     0.000000\n",
       "int_rate       0.000000\n",
       "installment    0.000000\n",
       "dtype: float64"
      ]
     },
     "execution_count": 84,
     "metadata": {},
     "output_type": "execute_result"
    }
   ],
   "source": [
    "missing[list_var_float]"
   ]
  },
  {
   "cell_type": "markdown",
   "id": "f1559759",
   "metadata": {},
   "source": [
    "Primero haremos una imputación manual sobre las variables enteras que lo necesiten transformandolas posteriormente a enteros."
   ]
  },
  {
   "cell_type": "markdown",
   "id": "ba98e50b",
   "metadata": {},
   "source": [
    "Para las variables:\n",
    "mths_since_rcnt_il,    \n",
    "mths_since_last_record,   \n",
    "mths_since_recent_bc_dlq,    \n",
    "mths_since_last_major_derog,  \n",
    "mths_since_last_delinq,  \n",
    "mo_sin_old_il_acct,   \n",
    "mths_since_recent_revol_delinq.\n",
    "\n",
    "Escogeremos asignar a los nan datos muy elevados ya que suelen ser valores de cantidad de meses sin haber cometido un delito o abrirse cuentas, así que si no pasa podemos asignarles valores elevados a la hora de hacer cálculos y lo interpretará como que llevan medio siglo sin cometer delitos o abrirse cuentas."
   ]
  },
  {
   "cell_type": "code",
   "execution_count": 85,
   "id": "22eb8f07",
   "metadata": {},
   "outputs": [
    {
     "name": "stderr",
     "output_type": "stream",
     "text": [
      "C:\\Users\\lolo\\AppData\\Local\\Temp/ipykernel_10780/2272314355.py:11: SettingWithCopyWarning:\n",
      "\n",
      "\n",
      "A value is trying to be set on a copy of a slice from a DataFrame.\n",
      "Try using .loc[row_indexer,col_indexer] = value instead\n",
      "\n",
      "See the caveats in the documentation: https://pandas.pydata.org/pandas-docs/stable/user_guide/indexing.html#returning-a-view-versus-a-copy\n",
      "\n"
     ]
    }
   ],
   "source": [
    "listremove=list_var_int.copy()\n",
    "lista=['mths_since_last_record', \n",
    "'mths_since_recent_bc_dlq', \n",
    "'mths_since_last_major_derog', \n",
    "'mths_since_last_delinq', \n",
    "'mo_sin_old_il_acct',\n",
    "'mths_since_rcnt_il',\n",
    "'mths_since_recent_revol_delinq']\n",
    "for i in lista:\n",
    "    listremove.remove(i)\n",
    "pd_loan[lista]=pd_loan[lista].fillna(500)"
   ]
  },
  {
   "cell_type": "markdown",
   "id": "690b80a0",
   "metadata": {},
   "source": [
    "Para las variables:    \n",
    "open_act_il,  \n",
    "open_acc_6m,  \n",
    "open_il_12m,  \n",
    "open_rv_12m,  \n",
    "open_il_24m,  \n",
    "open_rv_24m,\n",
    "total_cu_tl,  \n",
    "inq_fi,   \n",
    "inq_last_12m,  \n",
    "emp_length.  \n",
    "\n",
    "Son datos sobre cuentas abiertas, si no tiene datos lo dejaremos a 0, es decir supondremos que no se han abierto una cuenta"
   ]
  },
  {
   "cell_type": "code",
   "execution_count": 86,
   "id": "0be173f8",
   "metadata": {
    "scrolled": true
   },
   "outputs": [
    {
     "name": "stderr",
     "output_type": "stream",
     "text": [
      "C:\\Users\\lolo\\AppData\\Local\\Temp/ipykernel_10780/859673671.py:13: SettingWithCopyWarning:\n",
      "\n",
      "\n",
      "A value is trying to be set on a copy of a slice from a DataFrame.\n",
      "Try using .loc[row_indexer,col_indexer] = value instead\n",
      "\n",
      "See the caveats in the documentation: https://pandas.pydata.org/pandas-docs/stable/user_guide/indexing.html#returning-a-view-versus-a-copy\n",
      "\n"
     ]
    }
   ],
   "source": [
    "lista=['open_acc_6m',\n",
    "'open_il_12m',\n",
    "'open_rv_12m',\n",
    "'open_il_24m',  \n",
    "'open_rv_24m' ,\n",
    "'open_act_il',\n",
    "'total_cu_tl',\n",
    "'inq_fi', \n",
    "'inq_last_12m',\n",
    "'emp_length']\n",
    "for i in lista:\n",
    "    listremove.remove(i)\n",
    "pd_loan[lista]=pd_loan[lista].fillna(0)"
   ]
  },
  {
   "cell_type": "markdown",
   "id": "471e61d1",
   "metadata": {},
   "source": [
    "Las demás variables las imputaremos."
   ]
  },
  {
   "cell_type": "code",
   "execution_count": 87,
   "id": "2533b8eb",
   "metadata": {
    "scrolled": true
   },
   "outputs": [
    {
     "name": "stderr",
     "output_type": "stream",
     "text": [
      "C:\\Users\\lolo\\AppData\\Local\\Temp/ipykernel_10780/1696139643.py:8: SettingWithCopyWarning:\n",
      "\n",
      "\n",
      "A value is trying to be set on a copy of a slice from a DataFrame.\n",
      "Try using .loc[row_indexer,col_indexer] = value instead\n",
      "\n",
      "See the caveats in the documentation: https://pandas.pydata.org/pandas-docs/stable/user_guide/indexing.html#returning-a-view-versus-a-copy\n",
      "\n"
     ]
    }
   ],
   "source": [
    "from sklearn.impute import SimpleImputer\n",
    "#from sklearn.impute import KNNImputer\n",
    "imputer = SimpleImputer(missing_values=np.nan, strategy='mean')\n",
    "#imputer =KNNImputer(n_neighbors=10, weights='uniform')\n",
    "\n",
    "imputer.fit(pd_loan[list_var_continuous])\n",
    "#imputer.transform(pd_loan[list_var_continuous])\n",
    "pd_loan[list_var_continuous]=imputer.transform(pd_loan[list_var_continuous])"
   ]
  },
  {
   "cell_type": "markdown",
   "id": "cdab162a",
   "metadata": {},
   "source": [
    "Transformamos las variables enteras en int."
   ]
  },
  {
   "cell_type": "code",
   "execution_count": 88,
   "id": "b9adaea8",
   "metadata": {
    "scrolled": true
   },
   "outputs": [
    {
     "name": "stderr",
     "output_type": "stream",
     "text": [
      "C:\\Users\\lolo\\AppData\\Local\\Temp/ipykernel_10780/4174253711.py:1: SettingWithCopyWarning:\n",
      "\n",
      "\n",
      "A value is trying to be set on a copy of a slice from a DataFrame.\n",
      "Try using .loc[row_indexer,col_indexer] = value instead\n",
      "\n",
      "See the caveats in the documentation: https://pandas.pydata.org/pandas-docs/stable/user_guide/indexing.html#returning-a-view-versus-a-copy\n",
      "\n"
     ]
    }
   ],
   "source": [
    "pd_loan[list_var_int]=pd_loan[list_var_int].astype(int)"
   ]
  },
  {
   "cell_type": "markdown",
   "id": "09d630d4",
   "metadata": {},
   "source": [
    "# 3. Transformar las variables continuas."
   ]
  },
  {
   "cell_type": "markdown",
   "id": "3e242f68",
   "metadata": {},
   "source": [
    "Codificamos la variables categóricas"
   ]
  },
  {
   "cell_type": "code",
   "execution_count": 89,
   "id": "f248d458",
   "metadata": {},
   "outputs": [],
   "source": [
    "y=pd_loan['loan_status']\n",
    "y=y.replace({'Charged Off':0,'Fully Paid':1}).astype(bool)#True ha pagado, false no\n",
    "pd_loan=pd_loan.drop('loan_status',axis=1)\n",
    "list_var_discrets.remove('loan_status')"
   ]
  },
  {
   "cell_type": "code",
   "execution_count": 90,
   "id": "9623ab4f",
   "metadata": {},
   "outputs": [],
   "source": [
    "from sklearn.preprocessing import LabelEncoder\n",
    "\n",
    "enc = LabelEncoder()\n",
    "for col in list_var_discrets:\n",
    "    label_encoder = enc.fit(pd_loan[col])\n",
    "    pd_loan[col] = label_encoder.transform(pd_loan[col]) + 1"
   ]
  },
  {
   "cell_type": "markdown",
   "id": "d05dbf51",
   "metadata": {},
   "source": [
    "Normalizamos los datos "
   ]
  },
  {
   "cell_type": "code",
   "execution_count": 91,
   "id": "921c000a",
   "metadata": {
    "scrolled": true
   },
   "outputs": [],
   "source": [
    "from sklearn import preprocessing\n",
    "scaler = preprocessing.scale(pd_loan[list_var_continuous], axis=0, with_mean=True, with_std=True, copy=True)\n",
    "\n",
    "pd_loan[list_var_continuous] = scaler"
   ]
  },
  {
   "cell_type": "markdown",
   "id": "2255cd9f",
   "metadata": {},
   "source": [
    "# 4. Partición del conjunto de entrenamiento."
   ]
  },
  {
   "cell_type": "markdown",
   "id": "5a4b8c69",
   "metadata": {},
   "source": [
    "Haremos un balanceo de la variable objetivo que tal y como vimos estaba muy desbalanceada, dado que tenemos una gran cantidad de datos haremos un undersampling a la clase mayoritaria para que el ordenador pueda manejarlo."
   ]
  },
  {
   "cell_type": "code",
   "execution_count": 30,
   "id": "b2418d4e",
   "metadata": {
    "scrolled": false
   },
   "outputs": [],
   "source": [
    "from imblearn.over_sampling import RandomOverSampler\n",
    "from imblearn.under_sampling import RandomUnderSampler\n",
    "from sklearn.metrics.pairwise import euclidean_distances\n",
    "\n",
    "#samply = RandomOverSampler(sampling_strategy='minority',random_state = 0)\n",
    "\n",
    "samply = RandomUnderSampler(random_state = 0)\n",
    "X , y = samply.fit_resample(pd_loan,y)\n"
   ]
  },
  {
   "cell_type": "markdown",
   "id": "c992092f",
   "metadata": {},
   "source": [
    "Generamos los conjuntos de entrenamiento y de test:"
   ]
  },
  {
   "cell_type": "code",
   "execution_count": 123,
   "id": "8d04ca13",
   "metadata": {},
   "outputs": [
    {
     "ename": "ValueError",
     "evalue": "Found input variables with inconsistent numbers of samples: [194094, 442567]",
     "output_type": "error",
     "traceback": [
      "\u001b[1;31m---------------------------------------------------------------------------\u001b[0m",
      "\u001b[1;31mValueError\u001b[0m                                Traceback (most recent call last)",
      "\u001b[1;32m~\\AppData\\Local\\Temp/ipykernel_10780/2375274103.py\u001b[0m in \u001b[0;36m<module>\u001b[1;34m\u001b[0m\n\u001b[0;32m      1\u001b[0m \u001b[1;32mfrom\u001b[0m \u001b[0msklearn\u001b[0m\u001b[1;33m.\u001b[0m\u001b[0mmodel_selection\u001b[0m \u001b[1;32mimport\u001b[0m \u001b[0mtrain_test_split\u001b[0m\u001b[1;33m\u001b[0m\u001b[1;33m\u001b[0m\u001b[0m\n\u001b[1;32m----> 2\u001b[1;33m \u001b[0mX_train\u001b[0m\u001b[1;33m,\u001b[0m \u001b[0mX_test\u001b[0m\u001b[1;33m,\u001b[0m \u001b[0my_train\u001b[0m\u001b[1;33m,\u001b[0m \u001b[0my_test\u001b[0m \u001b[1;33m=\u001b[0m \u001b[0mtrain_test_split\u001b[0m\u001b[1;33m(\u001b[0m\u001b[0mX\u001b[0m\u001b[1;33m,\u001b[0m \u001b[0my\u001b[0m\u001b[1;33m,\u001b[0m \u001b[0mrandom_state\u001b[0m\u001b[1;33m=\u001b[0m\u001b[1;36m6\u001b[0m\u001b[1;33m)\u001b[0m\u001b[1;33m\u001b[0m\u001b[1;33m\u001b[0m\u001b[0m\n\u001b[0m\u001b[0;32m      3\u001b[0m \u001b[0mX_train\u001b[0m \u001b[1;33m=\u001b[0m \u001b[0mX_train\u001b[0m\u001b[1;33m.\u001b[0m\u001b[0mreshape\u001b[0m\u001b[1;33m(\u001b[0m\u001b[1;33m-\u001b[0m\u001b[1;36m1\u001b[0m\u001b[1;33m,\u001b[0m \u001b[1;36m1\u001b[0m\u001b[1;33m)\u001b[0m\u001b[1;33m\u001b[0m\u001b[1;33m\u001b[0m\u001b[0m\n\u001b[0;32m      4\u001b[0m \u001b[0mX_test\u001b[0m  \u001b[1;33m=\u001b[0m \u001b[0mX_test\u001b[0m\u001b[1;33m.\u001b[0m\u001b[0mreshape\u001b[0m\u001b[1;33m(\u001b[0m\u001b[1;33m-\u001b[0m\u001b[1;36m1\u001b[0m\u001b[1;33m,\u001b[0m \u001b[1;36m1\u001b[0m\u001b[1;33m)\u001b[0m\u001b[1;33m\u001b[0m\u001b[1;33m\u001b[0m\u001b[0m\n",
      "\u001b[1;32m~\\anaconda3\\lib\\site-packages\\sklearn\\model_selection\\_split.py\u001b[0m in \u001b[0;36mtrain_test_split\u001b[1;34m(test_size, train_size, random_state, shuffle, stratify, *arrays)\u001b[0m\n\u001b[0;32m   2415\u001b[0m         \u001b[1;32mraise\u001b[0m \u001b[0mValueError\u001b[0m\u001b[1;33m(\u001b[0m\u001b[1;34m\"At least one array required as input\"\u001b[0m\u001b[1;33m)\u001b[0m\u001b[1;33m\u001b[0m\u001b[1;33m\u001b[0m\u001b[0m\n\u001b[0;32m   2416\u001b[0m \u001b[1;33m\u001b[0m\u001b[0m\n\u001b[1;32m-> 2417\u001b[1;33m     \u001b[0marrays\u001b[0m \u001b[1;33m=\u001b[0m \u001b[0mindexable\u001b[0m\u001b[1;33m(\u001b[0m\u001b[1;33m*\u001b[0m\u001b[0marrays\u001b[0m\u001b[1;33m)\u001b[0m\u001b[1;33m\u001b[0m\u001b[1;33m\u001b[0m\u001b[0m\n\u001b[0m\u001b[0;32m   2418\u001b[0m \u001b[1;33m\u001b[0m\u001b[0m\n\u001b[0;32m   2419\u001b[0m     \u001b[0mn_samples\u001b[0m \u001b[1;33m=\u001b[0m \u001b[0m_num_samples\u001b[0m\u001b[1;33m(\u001b[0m\u001b[0marrays\u001b[0m\u001b[1;33m[\u001b[0m\u001b[1;36m0\u001b[0m\u001b[1;33m]\u001b[0m\u001b[1;33m)\u001b[0m\u001b[1;33m\u001b[0m\u001b[1;33m\u001b[0m\u001b[0m\n",
      "\u001b[1;32m~\\anaconda3\\lib\\site-packages\\sklearn\\utils\\validation.py\u001b[0m in \u001b[0;36mindexable\u001b[1;34m(*iterables)\u001b[0m\n\u001b[0;32m    376\u001b[0m \u001b[1;33m\u001b[0m\u001b[0m\n\u001b[0;32m    377\u001b[0m     \u001b[0mresult\u001b[0m \u001b[1;33m=\u001b[0m \u001b[1;33m[\u001b[0m\u001b[0m_make_indexable\u001b[0m\u001b[1;33m(\u001b[0m\u001b[0mX\u001b[0m\u001b[1;33m)\u001b[0m \u001b[1;32mfor\u001b[0m \u001b[0mX\u001b[0m \u001b[1;32min\u001b[0m \u001b[0miterables\u001b[0m\u001b[1;33m]\u001b[0m\u001b[1;33m\u001b[0m\u001b[1;33m\u001b[0m\u001b[0m\n\u001b[1;32m--> 378\u001b[1;33m     \u001b[0mcheck_consistent_length\u001b[0m\u001b[1;33m(\u001b[0m\u001b[1;33m*\u001b[0m\u001b[0mresult\u001b[0m\u001b[1;33m)\u001b[0m\u001b[1;33m\u001b[0m\u001b[1;33m\u001b[0m\u001b[0m\n\u001b[0m\u001b[0;32m    379\u001b[0m     \u001b[1;32mreturn\u001b[0m \u001b[0mresult\u001b[0m\u001b[1;33m\u001b[0m\u001b[1;33m\u001b[0m\u001b[0m\n\u001b[0;32m    380\u001b[0m \u001b[1;33m\u001b[0m\u001b[0m\n",
      "\u001b[1;32m~\\anaconda3\\lib\\site-packages\\sklearn\\utils\\validation.py\u001b[0m in \u001b[0;36mcheck_consistent_length\u001b[1;34m(*arrays)\u001b[0m\n\u001b[0;32m    330\u001b[0m     \u001b[0muniques\u001b[0m \u001b[1;33m=\u001b[0m \u001b[0mnp\u001b[0m\u001b[1;33m.\u001b[0m\u001b[0munique\u001b[0m\u001b[1;33m(\u001b[0m\u001b[0mlengths\u001b[0m\u001b[1;33m)\u001b[0m\u001b[1;33m\u001b[0m\u001b[1;33m\u001b[0m\u001b[0m\n\u001b[0;32m    331\u001b[0m     \u001b[1;32mif\u001b[0m \u001b[0mlen\u001b[0m\u001b[1;33m(\u001b[0m\u001b[0muniques\u001b[0m\u001b[1;33m)\u001b[0m \u001b[1;33m>\u001b[0m \u001b[1;36m1\u001b[0m\u001b[1;33m:\u001b[0m\u001b[1;33m\u001b[0m\u001b[1;33m\u001b[0m\u001b[0m\n\u001b[1;32m--> 332\u001b[1;33m         raise ValueError(\n\u001b[0m\u001b[0;32m    333\u001b[0m             \u001b[1;34m\"Found input variables with inconsistent numbers of samples: %r\"\u001b[0m\u001b[1;33m\u001b[0m\u001b[1;33m\u001b[0m\u001b[0m\n\u001b[0;32m    334\u001b[0m             \u001b[1;33m%\u001b[0m \u001b[1;33m[\u001b[0m\u001b[0mint\u001b[0m\u001b[1;33m(\u001b[0m\u001b[0ml\u001b[0m\u001b[1;33m)\u001b[0m \u001b[1;32mfor\u001b[0m \u001b[0ml\u001b[0m \u001b[1;32min\u001b[0m \u001b[0mlengths\u001b[0m\u001b[1;33m]\u001b[0m\u001b[1;33m\u001b[0m\u001b[1;33m\u001b[0m\u001b[0m\n",
      "\u001b[1;31mValueError\u001b[0m: Found input variables with inconsistent numbers of samples: [194094, 442567]"
     ]
    }
   ],
   "source": [
    "from sklearn.model_selection import train_test_split\n",
    "X_train, X_test, y_train, y_test = train_test_split(X, y, random_state=6)"
   ]
  },
  {
   "cell_type": "markdown",
   "id": "7da61188",
   "metadata": {},
   "source": [
    "# 5.\tEvaluación diferentes algoritmos de clasificación."
   ]
  },
  {
   "cell_type": "markdown",
   "id": "7d1bf816",
   "metadata": {},
   "source": [
    "#### Definamos una función que ayude a tomar todas las normas en cada diseño basado en un algoritmo"
   ]
  },
  {
   "cell_type": "code",
   "execution_count": 33,
   "id": "1ea82b43",
   "metadata": {},
   "outputs": [],
   "source": [
    "def todas_metricas(X_train, X_test, y_pred, y_test):\n",
    "    from sklearn import metrics\n",
    "    from sklearn.metrics import roc_curve, auc\n",
    "    from sklearn.metrics import confusion_matrix\n",
    "    \n",
    "    confmat = confusion_matrix(y_test,y_pred) #Matriz de confusión\n",
    "    funciones_auxiliares.plot_confusion_matrix(confmat)\n",
    "    \n",
    "    ejex, ejey, _ = roc_curve(y_test, y_pred) #Curva Roc\n",
    "    roc_auc = auc(ejex, ejey)\n",
    "\n",
    "    plt.figure()\n",
    "    plt.plot(ejex, ejey, color='darkorange',lw=2, label='AUC = %0.2f' % roc_auc)\n",
    "\n",
    "    plt.plot([0, 1], [0, 1], color=(0.6, 0.6, 0.6), linestyle='--')\n",
    "    plt.plot([0, 0, 1],[0, 1, 1],lw=2, linestyle=':',color='black',label='Clasificador perfecto')\n",
    "\n",
    "    plt.xlim([-0.05, 1.05])\n",
    "    plt.ylim([-0.05, 1.05])\n",
    "\n",
    "    plt.xlabel('FPR (1-ESP)')\n",
    "    plt.ylabel('SEN')\n",
    "    plt.legend(loc=\"lower right\")\n",
    "    plt.show()\n",
    "    \n",
    "    funciones_auxiliares.calcula_metricas(confmat) #Accuracy, Precision,True negative rate, Recall, F-Score\n",
    "    return confmat"
   ]
  },
  {
   "cell_type": "markdown",
   "id": "ebbabb01",
   "metadata": {},
   "source": [
    "### A.\tRegresión logística "
   ]
  },
  {
   "cell_type": "code",
   "execution_count": 100,
   "id": "8d72c713",
   "metadata": {},
   "outputs": [
    {
     "name": "stderr",
     "output_type": "stream",
     "text": [
      "C:\\Users\\lolo\\anaconda3\\lib\\site-packages\\sklearn\\linear_model\\_logistic.py:814: ConvergenceWarning:\n",
      "\n",
      "lbfgs failed to converge (status=1):\n",
      "STOP: TOTAL NO. of ITERATIONS REACHED LIMIT.\n",
      "\n",
      "Increase the number of iterations (max_iter) or scale the data as shown in:\n",
      "    https://scikit-learn.org/stable/modules/preprocessing.html\n",
      "Please also refer to the documentation for alternative solver options:\n",
      "    https://scikit-learn.org/stable/modules/linear_model.html#logistic-regression\n",
      "\n"
     ]
    }
   ],
   "source": [
    "from sklearn.linear_model import LogisticRegression\n",
    "\n",
    "clf = LogisticRegression(random_state=0, C = 1)\n",
    "model_glm = clf.fit(X_train, y_train)\n",
    "y_pred = model_glm.predict_proba(X_test)\n",
    "y_pred_def=[]\n",
    "for i in y_pred:\n",
    "    if i[0]<0.5:\n",
    "        y_pred_def.append(1)\n",
    "    else:\n",
    "        y_pred_def.append(0)\n",
    "y_pred_reg=y_pred_def"
   ]
  },
  {
   "cell_type": "code",
   "execution_count": 101,
   "id": "524860fa",
   "metadata": {
    "scrolled": true
   },
   "outputs": [
    {
     "data": {
      "image/png": "[encoded data removed]",
      "text/plain": [
       "<Figure size 216x216 with 1 Axes>"
      ]
     },
     "metadata": {},
     "output_type": "display_data"
    },
    {
     "data": {
      "image/png": "[encoded data removed]",
      "text/plain": [
       "<Figure size 432x288 with 1 Axes>"
      ]
     },
     "metadata": {},
     "output_type": "display_data"
    },
    {
     "name": "stdout",
     "output_type": "stream",
     "text": [
      "ACC:  0.6624969087461875\n",
      "SEN:  0.6734012287139736\n",
      "ESP:  0.6516006757035144\n",
      "PPV:  0.6588671938034533\n",
      "FSC:  0.6660549336269651\n"
     ]
    },
    {
     "data": {
      "image/png": "[encoded data removed]",
      "text/plain": [
       "<Figure size 432x288 with 1 Axes>"
      ]
     },
     "metadata": {},
     "output_type": "display_data"
    }
   ],
   "source": [
    "reg_mat=todas_metricas(X_train, X_test, y_pred_reg, y_test)"
   ]
  },
  {
   "cell_type": "markdown",
   "id": "dc30d520",
   "metadata": {},
   "source": [
    "### B.\tK-NN "
   ]
  },
  {
   "cell_type": "markdown",
   "id": "b3d4043c",
   "metadata": {},
   "source": [
    "Usaremos solo las variables continuas por ser muy costoso computacionalmente."
   ]
  },
  {
   "cell_type": "code",
   "execution_count": 36,
   "id": "c6429f85",
   "metadata": {},
   "outputs": [],
   "source": [
    "def which_k(X_train,X_test,y_train,y_pred,a,b):\n",
    "    from sklearn.neighbors import KNeighborsClassifier\n",
    "    from sklearn.metrics import accuracy_score\n",
    "    ks = list(range(a,b))\n",
    "    accs={}\n",
    "    for k in ks:\n",
    "        print(k)\n",
    "        # Definimos el modelo con el valor de hiperparámetro correspondiente\n",
    "        knn = KNeighborsClassifier(n_neighbors=k)\n",
    "\n",
    "        # Ajustamos a los datos de entrenamiento\n",
    "        knn.fit(X_train, y_train)\n",
    "\n",
    "        # Hacemos predicciones sobre los datos de test\n",
    "        y_pred = knn.predict(X_test)\n",
    "\n",
    "        # Evaluamos y guardamos la métrica correspondiente (en este caso accuracy)\n",
    "        acc =accuracy_score(y_test, y_pred)\n",
    "        print(acc)\n",
    "        accs[k] = acc\n",
    "    return accs"
   ]
  },
  {
   "cell_type": "markdown",
   "id": "0bb7bd91",
   "metadata": {},
   "source": [
    "Comentamos la función por ser computacionalmente costosa pero abajo ponemos nuestros resultados."
   ]
  },
  {
   "cell_type": "code",
   "execution_count": 37,
   "id": "0b415077",
   "metadata": {},
   "outputs": [],
   "source": [
    "#which_k(X_train[list_var_continuous],X_test[list_var_continuous],y_train,y_pred,9,17)"
   ]
  },
  {
   "cell_type": "markdown",
   "id": "5e83b691",
   "metadata": {},
   "source": [
    "9  \n",
    "0.6224548676943368  \n",
    "10   \n",
    "0.6203115983843047        \n",
    "11    \n",
    "0.6241859698293628     \n",
    "12   \n",
    "0.6238768444481082     \n",
    "13   \n",
    "0.6275657406644135    \n",
    "14   \n",
    "0.6276069573819141     \n",
    "15   \n",
    "0.6305127359657077   \n",
    "16   \n",
    "0.6304509108894568     \n",
    "150     \n",
    "0.6494312092984915   \n",
    "300   \n",
    "0.6504822355947573   \n",
    "1000   \n",
    "0.6505646690297585   \n",
    "1001   \n",
    "0.6502555436485038   \n",
    "2000   \n",
    "0.6497815513972467   "
   ]
  },
  {
   "cell_type": "markdown",
   "id": "8c8fdd52",
   "metadata": {},
   "source": [
    "Explorar es computacionalmente costoso y no poseemos ordenadores lo suficientemente potentes, por lo que nos quedamos con el que mejor accuraci saca de las prueba que hemos hecho k=1000."
   ]
  },
  {
   "cell_type": "code",
   "execution_count": 38,
   "id": "7c10a5f6",
   "metadata": {},
   "outputs": [],
   "source": [
    "from sklearn.neighbors import KNeighborsClassifier\n",
    "knn = KNeighborsClassifier(n_neighbors=1000)"
   ]
  },
  {
   "cell_type": "code",
   "execution_count": 39,
   "id": "912cb963",
   "metadata": {},
   "outputs": [],
   "source": [
    "#knn.fit(X_train[list_var_continuous], y_train)\n",
    "#y_pred_knn=knn.predict(X_test[list_var_continuous])"
   ]
  },
  {
   "cell_type": "code",
   "execution_count": 40,
   "id": "b50a3267",
   "metadata": {},
   "outputs": [
    {
     "ename": "NameError",
     "evalue": "name 'y_pred_knn' is not defined",
     "output_type": "error",
     "traceback": [
      "\u001b[1;31m---------------------------------------------------------------------------\u001b[0m",
      "\u001b[1;31mNameError\u001b[0m                                 Traceback (most recent call last)",
      "\u001b[1;32m~\\AppData\\Local\\Temp/ipykernel_10780/2346328021.py\u001b[0m in \u001b[0;36m<module>\u001b[1;34m\u001b[0m\n\u001b[1;32m----> 1\u001b[1;33m \u001b[0mknn_mat\u001b[0m\u001b[1;33m=\u001b[0m\u001b[0mtodas_metricas\u001b[0m\u001b[1;33m(\u001b[0m\u001b[0mX_train\u001b[0m\u001b[1;33m[\u001b[0m\u001b[0mlist_var_continuous\u001b[0m\u001b[1;33m]\u001b[0m\u001b[1;33m,\u001b[0m \u001b[0mX_test\u001b[0m\u001b[1;33m[\u001b[0m\u001b[0mlist_var_continuous\u001b[0m\u001b[1;33m]\u001b[0m\u001b[1;33m,\u001b[0m \u001b[0my_pred_knn\u001b[0m\u001b[1;33m,\u001b[0m \u001b[0my_test\u001b[0m\u001b[1;33m)\u001b[0m\u001b[1;33m\u001b[0m\u001b[1;33m\u001b[0m\u001b[0m\n\u001b[0m",
      "\u001b[1;31mNameError\u001b[0m: name 'y_pred_knn' is not defined"
     ]
    }
   ],
   "source": [
    "knn_mat=todas_metricas(X_train[list_var_continuous], X_test[list_var_continuous], y_pred_knn, y_test)"
   ]
  },
  {
   "cell_type": "markdown",
   "id": "fda490b7",
   "metadata": {},
   "source": [
    "### C.\tArbol de decisión simple "
   ]
  },
  {
   "cell_type": "code",
   "execution_count": 42,
   "id": "9e46877e",
   "metadata": {},
   "outputs": [],
   "source": [
    "from sklearn.tree import DecisionTreeClassifier"
   ]
  },
  {
   "cell_type": "code",
   "execution_count": 43,
   "id": "0d418d1c",
   "metadata": {},
   "outputs": [],
   "source": [
    "def which_k_tree(X_train,X_test,y_train,y_pred,a,b):\n",
    "    from sklearn.tree import DecisionTreeClassifier\n",
    "    from sklearn.metrics import accuracy_score\n",
    "    ks = list(range(a,b))\n",
    "    accs={}\n",
    "    for k in ks:\n",
    "        print(k)\n",
    "        # Definimos el modelo con el valor de hiperparámetro correspondiente\n",
    "        arbol = DecisionTreeClassifier(max_depth=k)\n",
    "        \n",
    "\n",
    "        # Ajustamos a los datos de entrenamiento\n",
    "        arbol.fit(X_train[list_var_continuous],y_train)\n",
    "\n",
    "        # Hacemos predicciones sobre los datos de test\n",
    "        y_pred= arbol.predict(X_test[list_var_continuous])\n",
    "\n",
    "        # Evaluamos y guardamos la métrica correspondiente (en este caso accuracy)\n",
    "        acc =accuracy_score(y_test, y_pred)\n",
    "        print(acc)\n",
    "        accs[k] = acc\n",
    "    return accs"
   ]
  },
  {
   "cell_type": "code",
   "execution_count": 99,
   "id": "0e2e959f",
   "metadata": {
    "scrolled": true
   },
   "outputs": [
    {
     "name": "stdout",
     "output_type": "stream",
     "text": [
      "1\n",
      "0.6271123567719067\n",
      "2\n",
      "0.6271123567719067\n",
      "3\n",
      "0.6329033055807436\n",
      "4\n",
      "0.6446088533509191\n",
      "5\n",
      "0.6445676366334185\n",
      "6\n",
      "0.6468757728134531\n",
      "7\n",
      "0.650337977083505\n",
      "8\n",
      "0.6493693842222406\n",
      "9\n",
      "0.6494106009397411\n"
     ]
    },
    {
     "data": {
      "text/plain": [
       "{1: 0.6271123567719067,\n",
       " 2: 0.6271123567719067,\n",
       " 3: 0.6329033055807436,\n",
       " 4: 0.6446088533509191,\n",
       " 5: 0.6445676366334185,\n",
       " 6: 0.6468757728134531,\n",
       " 7: 0.650337977083505,\n",
       " 8: 0.6493693842222406,\n",
       " 9: 0.6494106009397411}"
      ]
     },
     "execution_count": 99,
     "metadata": {},
     "output_type": "execute_result"
    }
   ],
   "source": [
    "which_k_tree(X_train,X_test,y_train,y_pred,1,10)"
   ]
  },
  {
   "cell_type": "markdown",
   "id": "7f2d663d",
   "metadata": {},
   "source": [
    "Observamos que k=7 parece ser el mejor modelo"
   ]
  },
  {
   "cell_type": "code",
   "execution_count": 45,
   "id": "0ad493a8",
   "metadata": {},
   "outputs": [
    {
     "data": {
      "text/plain": [
       "DecisionTreeClassifier(max_depth=7)"
      ]
     },
     "execution_count": 45,
     "metadata": {},
     "output_type": "execute_result"
    }
   ],
   "source": [
    "arbol = DecisionTreeClassifier(max_depth=7)\n",
    "arbol.fit(X_train,y_train)"
   ]
  },
  {
   "cell_type": "code",
   "execution_count": 46,
   "id": "e5b4d865",
   "metadata": {},
   "outputs": [],
   "source": [
    "y_pred_tree= arbol.predict(X_test)"
   ]
  },
  {
   "cell_type": "code",
   "execution_count": 47,
   "id": "c7505b7f",
   "metadata": {},
   "outputs": [
    {
     "data": {
      "image/png": "[encoded data removed]",
      "text/plain": [
       "<Figure size 216x216 with 1 Axes>"
      ]
     },
     "metadata": {},
     "output_type": "display_data"
    },
    {
     "data": {
      "image/png": "[encoded data removed]",
      "text/plain": [
       "<Figure size 432x288 with 1 Axes>"
      ]
     },
     "metadata": {},
     "output_type": "display_data"
    },
    {
     "name": "stdout",
     "output_type": "stream",
     "text": [
      "ACC:  0.6511210947160169\n",
      "SEN:  0.5997196223147652\n",
      "ESP:  0.7024844464587368\n",
      "PPV:  0.6682440503537628\n",
      "FSC:  0.6321302070883765\n"
     ]
    },
    {
     "data": {
      "image/png": "[encoded data removed]",
      "text/plain": [
       "<Figure size 432x288 with 1 Axes>"
      ]
     },
     "metadata": {},
     "output_type": "display_data"
    }
   ],
   "source": [
    "wood_mat=todas_metricas(X_train, X_test,y_pred_tree, y_test)"
   ]
  },
  {
   "cell_type": "markdown",
   "id": "75f477d8",
   "metadata": {},
   "source": [
    "### D. Random forest."
   ]
  },
  {
   "cell_type": "markdown",
   "id": "ecca19ea",
   "metadata": {},
   "source": [
    "Como en el árbol de decision tuvimos una profundidad de 7 en el random forest necesitaremos menos ,  ajustaremos un random forest con k=7 ya que tenemos muchas variables."
   ]
  },
  {
   "cell_type": "code",
   "execution_count": 124,
   "id": "ae627f1c",
   "metadata": {},
   "outputs": [],
   "source": [
    "from sklearn.ensemble import RandomForestRegressor\n",
    "bosque = RandomForestRegressor(max_depth=7)"
   ]
  },
  {
   "cell_type": "code",
   "execution_count": 125,
   "id": "e74c3757",
   "metadata": {},
   "outputs": [
    {
     "data": {
      "text/plain": [
       "RandomForestRegressor(max_depth=7)"
      ]
     },
     "execution_count": 125,
     "metadata": {},
     "output_type": "execute_result"
    }
   ],
   "source": [
    "bosque.fit(X_train[list_var_continuous],y_train)"
   ]
  },
  {
   "cell_type": "markdown",
   "id": "13903d76",
   "metadata": {},
   "source": [
    "Predecimos los datos de test y comparamos."
   ]
  },
  {
   "cell_type": "code",
   "execution_count": 128,
   "id": "48c6cad8",
   "metadata": {},
   "outputs": [],
   "source": [
    "y_pred_wood= bosque.predict(X_test[list_var_continuous])\n",
    "y_pred_def=[]\n",
    "for i in y_pred_wood:\n",
    "    if i<0.5:\n",
    "        y_pred_def.append(0)\n",
    "    else:\n",
    "        y_pred_def.append(1)\n",
    "y_pred_wood=y_pred_def"
   ]
  },
  {
   "cell_type": "code",
   "execution_count": 129,
   "id": "a1185432",
   "metadata": {
    "scrolled": true
   },
   "outputs": [
    {
     "data": {
      "image/png": "[encoded data removed]",
      "text/plain": [
       "<Figure size 216x216 with 1 Axes>"
      ]
     },
     "metadata": {},
     "output_type": "display_data"
    },
    {
     "data": {
      "image/png": "[encoded data removed]",
      "text/plain": [
       "<Figure size 432x288 with 1 Axes>"
      ]
     },
     "metadata": {},
     "output_type": "display_data"
    },
    {
     "name": "stdout",
     "output_type": "stream",
     "text": [
      "ACC:  0.6564792679910972\n",
      "SEN:  0.6544345029480889\n",
      "ESP:  0.6585225165835771\n",
      "PPV:  0.6569536423841059\n",
      "FSC:  0.6556916530683907\n"
     ]
    },
    {
     "data": {
      "image/png": "[encoded data removed]",
      "text/plain": [
       "<Figure size 432x288 with 1 Axes>"
      ]
     },
     "metadata": {},
     "output_type": "display_data"
    }
   ],
   "source": [
    "tree_mat=todas_metricas(X_train[list_var_continuous], X_test[list_var_continuous],y_pred_wood, y_test)"
   ]
  },
  {
   "cell_type": "markdown",
   "id": "0dd255bb",
   "metadata": {},
   "source": [
    "vemos que mejora un poco la prediccion respecto al decision tree, pero tampoco mucho"
   ]
  },
  {
   "cell_type": "markdown",
   "id": "2c64ae06",
   "metadata": {},
   "source": [
    "### SVM"
   ]
  },
  {
   "cell_type": "markdown",
   "id": "6e4f3042",
   "metadata": {},
   "source": [
    "Al no tener potencia suficiente, utilizaremos solo las continuas"
   ]
  },
  {
   "cell_type": "code",
   "execution_count": 41,
   "id": "cfe3f561",
   "metadata": {},
   "outputs": [],
   "source": [
    "from sklearn.svm import SVC\n",
    "from sklearn.metrics import accuracy_score\n",
    "\n"
   ]
  },
  {
   "cell_type": "markdown",
   "id": "8501f75b",
   "metadata": {},
   "source": [
    "Vamos a reducir el tiempo de computación cogiendo menos datos tanto para el train como para el test"
   ]
  },
  {
   "cell_type": "code",
   "execution_count": null,
   "id": "e402531b",
   "metadata": {},
   "outputs": [],
   "source": []
  },
  {
   "cell_type": "code",
   "execution_count": null,
   "id": "d633dd1c",
   "metadata": {},
   "outputs": [],
   "source": [
    "svmModel= SVC(kernel='linear',probability=True) \n",
    "svmModel.fit(X_train[list_var_continuous], y_train)\n",
    "y_pred_knn=knn.svmModel(X_test[list_var_continuous])\n",
    "todas_metricas(X_train[list_var_continuous], X_test[list_var_continuous], y_pred_svm, y_test)\n"
   ]
  },
  {
   "cell_type": "markdown",
   "id": "0cb5ebfc",
   "metadata": {},
   "source": [
    "Probados todos los tipos de Kernel, el que mejor score proporciona es el 'linear'"
   ]
  },
  {
   "cell_type": "code",
   "execution_count": null,
   "id": "b1b5073f",
   "metadata": {},
   "outputs": [],
   "source": [
    "funciones_auxiliares.plot_decision_boundary_svm(X_test,y_test,0.05,svmModel)"
   ]
  },
  {
   "cell_type": "markdown",
   "id": "4823ad26",
   "metadata": {},
   "source": [
    "Analizemos el SVM para la regresión"
   ]
  },
  {
   "cell_type": "code",
   "execution_count": null,
   "id": "28b0689e",
   "metadata": {},
   "outputs": [],
   "source": [
    "###Tarda demasiado en compilarse\n",
    "from sklearn.model_selection import GridSearchCV\n",
    "from sklearn.svm import SVR\n",
    "\n",
    "vectorC = np.logspace(-2, 2, 10)\n",
    "vectorG = np.logspace(-5, 1, 8)\n",
    "\n",
    "param_grid = {'C': vectorC, 'gamma':vectorG}\n",
    "grid = GridSearchCV(SVR(kernel='rbf'), param_grid=param_grid, cv = 5, verbose=1)\n",
    "grid.fit(X_train, y_train)"
   ]
  },
  {
   "cell_type": "markdown",
   "id": "3880ad08",
   "metadata": {},
   "source": [
    "# 6.  ¿Cual de todas las métricas crees que es la más conveniente?"
   ]
  },
  {
   "cell_type": "markdown",
   "id": "9a6968ba",
   "metadata": {},
   "source": [
    "La accuracy y F-Score resumen con un solo dato lo bueno que es el modelo y viene bien para hacer un análisis poco exhaustivo , pero se quedan bastante corto , la curva roc puede estar bien, pero la que mejor resume lo bueno que el modelo, es la matriz de confusión, que te resume en que falla y en que no falla, aunque es difícil de comparar con otros modelos."
   ]
  },
  {
   "cell_type": "markdown",
   "id": "7d4b91e0",
   "metadata": {},
   "source": [
    "Ahora ordenaremos por orden los valores de las métricas"
   ]
  },
  {
   "cell_type": "markdown",
   "id": "3d55e590",
   "metadata": {},
   "source": [
    "### -Accuracy."
   ]
  },
  {
   "cell_type": "markdown",
   "id": "dba7f789",
   "metadata": {},
   "source": [
    "Por orden es:\n",
    "\n",
    "Regresión con:0.6624969087461875  \n",
    "Decision_tree con:0.6511210947160169  \n",
    "knn con:0.6505646690297585  "
   ]
  },
  {
   "cell_type": "markdown",
   "id": "394e6e99",
   "metadata": {},
   "source": [
    "### -F-score."
   ]
  },
  {
   "cell_type": "markdown",
   "id": "469bdbc6",
   "metadata": {},
   "source": [
    "Por orden es:\n",
    "\n",
    "Regresión con: 0.6660549336269651  \n",
    "knn con:0.6511210947160169  \n",
    "Decision_tree con: 0.6321302070883765"
   ]
  },
  {
   "cell_type": "markdown",
   "id": "6c85d627",
   "metadata": {},
   "source": [
    "### -Recall."
   ]
  },
  {
   "cell_type": "markdown",
   "id": "40d73f50",
   "metadata": {},
   "source": [
    "Por orden es:\n",
    "\n",
    "knn con:0.6909248340411496\n",
    "Regresión con: 0.6734012287139736   \n",
    "Decision_tree con:0.5997196223147652 "
   ]
  },
  {
   "cell_type": "markdown",
   "id": "698e41ba",
   "metadata": {},
   "source": [
    "### -True negative rate"
   ]
  },
  {
   "cell_type": "markdown",
   "id": "11fcd08e",
   "metadata": {},
   "source": [
    "Por orden es:\n",
    "\n",
    "Decision_tree con:0.7024844464587368    \n",
    "Regresión con: 0.6516006757035144  \n",
    "knn con:0.6102344361583784    "
   ]
  },
  {
   "cell_type": "markdown",
   "id": "ca253516",
   "metadata": {},
   "source": [
    "###  -Precision"
   ]
  },
  {
   "cell_type": "markdown",
   "id": "28e0c2a2",
   "metadata": {},
   "source": [
    "Por orden es:\n",
    "\n",
    "Decision_tree con:0.6682440503537628   \n",
    "Regresión con: 0.6516006757035144  \n",
    "knn con:0.6588671938034533    "
   ]
  },
  {
   "cell_type": "markdown",
   "id": "e174ad46",
   "metadata": {},
   "source": [
    "###  -F-score."
   ]
  },
  {
   "cell_type": "markdown",
   "id": "30400a46",
   "metadata": {},
   "source": [
    "Por orden es:\n",
    " \n",
    "Regresión con: 0.6660549336269651     \n",
    "knn con: 0.6640380424014266     \n",
    "Decision_tree con:0.6321302070883765      "
   ]
  },
  {
   "cell_type": "markdown",
   "id": "db5ca447",
   "metadata": {},
   "source": [
    "### Matriz de confusión."
   ]
  },
  {
   "cell_type": "code",
   "execution_count": null,
   "id": "7792f279",
   "metadata": {},
   "outputs": [],
   "source": [
    "funciones_auxiliares.plot_confusion_matrix(reg_mat)"
   ]
  },
  {
   "cell_type": "code",
   "execution_count": null,
   "id": "f84788a4",
   "metadata": {},
   "outputs": [],
   "source": [
    "funciones_auxiliares.plot_confusion_matrix(tree_mat)"
   ]
  },
  {
   "cell_type": "code",
   "execution_count": null,
   "id": "5b24f7dd",
   "metadata": {},
   "outputs": [],
   "source": [
    "funciones_auxiliares.plot_confusion_matrix(knn_mat)"
   ]
  },
  {
   "cell_type": "markdown",
   "id": "5bc1de1e",
   "metadata": {},
   "source": [
    "Tras todos los análisis concluimos que pese a que sigue siendo un modelo regulero por fallar tanto, el mejor es el de regresión logística por ser el que suele tener mejores métricas y mejor matriz de confusión."
   ]
  }
 ],
 "metadata": {
  "kernelspec": {
   "display_name": "Python 3 (ipykernel)",
   "language": "python",
   "name": "python3"
  },
  "language_info": {
   "codemirror_mode": {
    "name": "ipython",
    "version": 3
   },
   "file_extension": ".py",
   "mimetype": "text/x-python",
   "name": "python",
   "nbconvert_exporter": "python",
   "pygments_lexer": "ipython3",
   "version": "3.8.8"
  }
 },
 "nbformat": 4,
 "nbformat_minor": 5
}
